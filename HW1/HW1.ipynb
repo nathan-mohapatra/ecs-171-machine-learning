{
 "cells": [
  {
   "cell_type": "markdown",
   "metadata": {},
   "source": [
    "Nathan Mohapatra\n",
    "\n",
    "njmohapatra@ucdavis.edu"
   ]
  },
  {
   "cell_type": "code",
   "execution_count": 1,
   "metadata": {},
   "outputs": [],
   "source": [
    "# Assignment-1 (HW1)\n",
    "\n",
    "# Guidelines:\n",
    "\n",
    "# We will be using Python for coding. Please install Jupyter notebook (available in Anaconda Navigator) as a recommended editor tool.\n",
    "# The homework should be submitted electronically through Canvas before the submission deadline.\n",
    "# Hard Submission Deadline: 11:30 PM\n",
    "# Late Submission is 0 credit.\n",
    "# Plagiarism is a clear violation of honor code!\n",
    "# Shared/copied code from any source is not allowed, as it is considered plagiarism.\n",
    "# _ 0 for the corresponding assignment in the 1st attempt.\n",
    "# _ F for the course in the 2nd attempt!\n",
    "\n",
    "# Your submission should be a zip file which contains the following:\n",
    "# (a) a report in pdf format (use this label \"report_HW1.pdf\") that includes your answers to all questions, plots, figures and any instructions to run your code,\n",
    "# (b) the python code files. \n",
    "\n",
    "# Please pay attention to the following points:\n",
    "# (a) do not include the files which are already provided to you for the assignment such as datasets,\n",
    "# (b) each function should be written with the appropriate comments and documentation in the code so it is understandable.\n",
    "# Please describe what your code does, and how a functionality is implemented\n",
    "# (c) do not use any toolbox unless it is explicitly allowed in the homework description.\n",
    "\n",
    "# Assignment Description:\n",
    "# For this assignment, download “Auto MPG” dataset (“auto-mpg.data” file; 398 cars, 9 features; remove the 6 records with missing\n",
    "# values to end up with 392 samples) that is available in the UCIMachine Learning Repository:\n",
    "# https://archive.ics.uci.edu/ml/datasets/Auto+MPG\n",
    "# create a working directory for your assignment code, and save the dataset in a destination folder, called 'datasets'\n",
    "# use the following sample code to import the dataset into pandas dataframe.\n",
    "# From this point on, you need to code your solution from scratch. Unless explicitly stated,\n",
    "# it is fine to use open source code, for example, sci-kit learn, to help you write your own implementation of the methods."
   ]
  },
  {
   "cell_type": "code",
   "execution_count": 2,
   "metadata": {},
   "outputs": [],
   "source": [
    "# read the saved dataset into pandas dataframe\n",
    "import pandas as pd\n",
    "df = pd.read_csv('./../datasets/auto-mpg.data', delim_whitespace=True, names=['mpg', 'cylinders', 'displacement', 'horsepower', 'weight', 'acceleration', 'model_year', 'origin', 'car_name'])"
   ]
  },
  {
   "cell_type": "code",
   "execution_count": 3,
   "metadata": {},
   "outputs": [
    {
     "data": {
      "text/html": [
       "<div>\n",
       "<style scoped>\n",
       "    .dataframe tbody tr th:only-of-type {\n",
       "        vertical-align: middle;\n",
       "    }\n",
       "\n",
       "    .dataframe tbody tr th {\n",
       "        vertical-align: top;\n",
       "    }\n",
       "\n",
       "    .dataframe thead th {\n",
       "        text-align: right;\n",
       "    }\n",
       "</style>\n",
       "<table border=\"1\" class=\"dataframe\">\n",
       "  <thead>\n",
       "    <tr style=\"text-align: right;\">\n",
       "      <th></th>\n",
       "      <th>mpg</th>\n",
       "      <th>cylinders</th>\n",
       "      <th>displacement</th>\n",
       "      <th>horsepower</th>\n",
       "      <th>weight</th>\n",
       "      <th>acceleration</th>\n",
       "      <th>model_year</th>\n",
       "      <th>origin</th>\n",
       "      <th>car_name</th>\n",
       "    </tr>\n",
       "  </thead>\n",
       "  <tbody>\n",
       "    <tr>\n",
       "      <th>0</th>\n",
       "      <td>18.0</td>\n",
       "      <td>8</td>\n",
       "      <td>307.0</td>\n",
       "      <td>130.0</td>\n",
       "      <td>3504.0</td>\n",
       "      <td>12.0</td>\n",
       "      <td>70</td>\n",
       "      <td>1</td>\n",
       "      <td>chevrolet chevelle malibu</td>\n",
       "    </tr>\n",
       "    <tr>\n",
       "      <th>1</th>\n",
       "      <td>15.0</td>\n",
       "      <td>8</td>\n",
       "      <td>350.0</td>\n",
       "      <td>165.0</td>\n",
       "      <td>3693.0</td>\n",
       "      <td>11.5</td>\n",
       "      <td>70</td>\n",
       "      <td>1</td>\n",
       "      <td>buick skylark 320</td>\n",
       "    </tr>\n",
       "    <tr>\n",
       "      <th>2</th>\n",
       "      <td>18.0</td>\n",
       "      <td>8</td>\n",
       "      <td>318.0</td>\n",
       "      <td>150.0</td>\n",
       "      <td>3436.0</td>\n",
       "      <td>11.0</td>\n",
       "      <td>70</td>\n",
       "      <td>1</td>\n",
       "      <td>plymouth satellite</td>\n",
       "    </tr>\n",
       "    <tr>\n",
       "      <th>3</th>\n",
       "      <td>16.0</td>\n",
       "      <td>8</td>\n",
       "      <td>304.0</td>\n",
       "      <td>150.0</td>\n",
       "      <td>3433.0</td>\n",
       "      <td>12.0</td>\n",
       "      <td>70</td>\n",
       "      <td>1</td>\n",
       "      <td>amc rebel sst</td>\n",
       "    </tr>\n",
       "    <tr>\n",
       "      <th>4</th>\n",
       "      <td>17.0</td>\n",
       "      <td>8</td>\n",
       "      <td>302.0</td>\n",
       "      <td>140.0</td>\n",
       "      <td>3449.0</td>\n",
       "      <td>10.5</td>\n",
       "      <td>70</td>\n",
       "      <td>1</td>\n",
       "      <td>ford torino</td>\n",
       "    </tr>\n",
       "  </tbody>\n",
       "</table>\n",
       "</div>"
      ],
      "text/plain": [
       "    mpg  cylinders  displacement horsepower  weight  acceleration  model_year  \\\n",
       "0  18.0          8         307.0      130.0  3504.0          12.0          70   \n",
       "1  15.0          8         350.0      165.0  3693.0          11.5          70   \n",
       "2  18.0          8         318.0      150.0  3436.0          11.0          70   \n",
       "3  16.0          8         304.0      150.0  3433.0          12.0          70   \n",
       "4  17.0          8         302.0      140.0  3449.0          10.5          70   \n",
       "\n",
       "   origin                   car_name  \n",
       "0       1  chevrolet chevelle malibu  \n",
       "1       1          buick skylark 320  \n",
       "2       1         plymouth satellite  \n",
       "3       1              amc rebel sst  \n",
       "4       1                ford torino  "
      ]
     },
     "execution_count": 3,
     "metadata": {},
     "output_type": "execute_result"
    }
   ],
   "source": [
    "# displaying the first 5 rows in df\n",
    "df.head()"
   ]
  },
  {
   "cell_type": "markdown",
   "metadata": {},
   "source": [
    "## Provide code and results in your submission addressing the following questions:"
   ]
  },
  {
   "cell_type": "code",
   "execution_count": 4,
   "metadata": {},
   "outputs": [],
   "source": [
    "# libraries\n",
    "import math\n",
    "import numpy as np\n",
    "import pandas as pd\n",
    "import seaborn as sb"
   ]
  },
  {
   "cell_type": "markdown",
   "metadata": {},
   "source": [
    "### 1: [10pt]\n",
    "\n",
    "Allowed libraries: pandas (https://pandas.pydata.org/pandas-docs/stable/reference/api/pandas.Series.html)\n",
    "\n",
    "(a) Report the percentage of the missing data and write your own code to remove the observations with missing values '?'.\n",
    "\n",
    "(b) Next, plot the distribution of the # make of a car (for instance 'ford' is a make of a car), by processing the information provided under the 'car_name' attribute. For instance, 'chevrolet chevelle malibu' is a 'chevrolet' and you can write code to create a bar plot and show the count of observations for each make of a car such as 'ford', 'volkswagen', etc."
   ]
  },
  {
   "cell_type": "code",
   "execution_count": 5,
   "metadata": {
    "scrolled": true
   },
   "outputs": [
    {
     "data": {
      "text/html": [
       "<div>\n",
       "<style scoped>\n",
       "    .dataframe tbody tr th:only-of-type {\n",
       "        vertical-align: middle;\n",
       "    }\n",
       "\n",
       "    .dataframe tbody tr th {\n",
       "        vertical-align: top;\n",
       "    }\n",
       "\n",
       "    .dataframe thead th {\n",
       "        text-align: right;\n",
       "    }\n",
       "</style>\n",
       "<table border=\"1\" class=\"dataframe\">\n",
       "  <thead>\n",
       "    <tr style=\"text-align: right;\">\n",
       "      <th></th>\n",
       "      <th>mpg</th>\n",
       "      <th>cylinders</th>\n",
       "      <th>displacement</th>\n",
       "      <th>horsepower</th>\n",
       "      <th>weight</th>\n",
       "      <th>acceleration</th>\n",
       "      <th>model_year</th>\n",
       "      <th>origin</th>\n",
       "      <th>car_name</th>\n",
       "    </tr>\n",
       "  </thead>\n",
       "  <tbody>\n",
       "    <tr>\n",
       "      <th>32</th>\n",
       "      <td>25.0</td>\n",
       "      <td>4</td>\n",
       "      <td>98.0</td>\n",
       "      <td>?</td>\n",
       "      <td>2046.0</td>\n",
       "      <td>19.0</td>\n",
       "      <td>71</td>\n",
       "      <td>1</td>\n",
       "      <td>ford pinto</td>\n",
       "    </tr>\n",
       "    <tr>\n",
       "      <th>126</th>\n",
       "      <td>21.0</td>\n",
       "      <td>6</td>\n",
       "      <td>200.0</td>\n",
       "      <td>?</td>\n",
       "      <td>2875.0</td>\n",
       "      <td>17.0</td>\n",
       "      <td>74</td>\n",
       "      <td>1</td>\n",
       "      <td>ford maverick</td>\n",
       "    </tr>\n",
       "    <tr>\n",
       "      <th>330</th>\n",
       "      <td>40.9</td>\n",
       "      <td>4</td>\n",
       "      <td>85.0</td>\n",
       "      <td>?</td>\n",
       "      <td>1835.0</td>\n",
       "      <td>17.3</td>\n",
       "      <td>80</td>\n",
       "      <td>2</td>\n",
       "      <td>renault lecar deluxe</td>\n",
       "    </tr>\n",
       "    <tr>\n",
       "      <th>336</th>\n",
       "      <td>23.6</td>\n",
       "      <td>4</td>\n",
       "      <td>140.0</td>\n",
       "      <td>?</td>\n",
       "      <td>2905.0</td>\n",
       "      <td>14.3</td>\n",
       "      <td>80</td>\n",
       "      <td>1</td>\n",
       "      <td>ford mustang cobra</td>\n",
       "    </tr>\n",
       "    <tr>\n",
       "      <th>354</th>\n",
       "      <td>34.5</td>\n",
       "      <td>4</td>\n",
       "      <td>100.0</td>\n",
       "      <td>?</td>\n",
       "      <td>2320.0</td>\n",
       "      <td>15.8</td>\n",
       "      <td>81</td>\n",
       "      <td>2</td>\n",
       "      <td>renault 18i</td>\n",
       "    </tr>\n",
       "    <tr>\n",
       "      <th>374</th>\n",
       "      <td>23.0</td>\n",
       "      <td>4</td>\n",
       "      <td>151.0</td>\n",
       "      <td>?</td>\n",
       "      <td>3035.0</td>\n",
       "      <td>20.5</td>\n",
       "      <td>82</td>\n",
       "      <td>1</td>\n",
       "      <td>amc concord dl</td>\n",
       "    </tr>\n",
       "  </tbody>\n",
       "</table>\n",
       "</div>"
      ],
      "text/plain": [
       "      mpg  cylinders  displacement horsepower  weight  acceleration  \\\n",
       "32   25.0          4          98.0          ?  2046.0          19.0   \n",
       "126  21.0          6         200.0          ?  2875.0          17.0   \n",
       "330  40.9          4          85.0          ?  1835.0          17.3   \n",
       "336  23.6          4         140.0          ?  2905.0          14.3   \n",
       "354  34.5          4         100.0          ?  2320.0          15.8   \n",
       "374  23.0          4         151.0          ?  3035.0          20.5   \n",
       "\n",
       "     model_year  origin              car_name  \n",
       "32           71       1            ford pinto  \n",
       "126          74       1         ford maverick  \n",
       "330          80       2  renault lecar deluxe  \n",
       "336          80       1    ford mustang cobra  \n",
       "354          81       2           renault 18i  \n",
       "374          82       1        amc concord dl  "
      ]
     },
     "execution_count": 5,
     "metadata": {},
     "output_type": "execute_result"
    }
   ],
   "source": [
    "# extract observations with missing values '?'\n",
    "df[df['horsepower'] == '?']"
   ]
  },
  {
   "cell_type": "code",
   "execution_count": 6,
   "metadata": {},
   "outputs": [
    {
     "data": {
      "text/plain": [
       "398"
      ]
     },
     "execution_count": 6,
     "metadata": {},
     "output_type": "execute_result"
    }
   ],
   "source": [
    "df.shape[0]"
   ]
  },
  {
   "cell_type": "markdown",
   "metadata": {},
   "source": [
    "#### Report the percentage of missing data\n",
    "The initial dataset has 398 rows (cars) and 9 columns (attributes). There are 6 rows with missing values; in each of these 6 rows, the missing value is denoted by a ‘?’ for the 'horsepower' feature. Thus, the percentage of missing data can be reported in two ways:\n",
    "\n",
    "   1. Number of missing values / Total number of values\n",
    "       \n",
    "       $6/(398*9)=0.00167504187=0.17\\%$\n",
    "    \n",
    "    \n",
    "   2. Number of rows with missing values / Total number of rows\n",
    "   \n",
    "       $6/398=0.01507537688=1.51\\%$"
   ]
  },
  {
   "cell_type": "code",
   "execution_count": 7,
   "metadata": {},
   "outputs": [
    {
     "data": {
      "text/plain": [
       "392"
      ]
     },
     "execution_count": 7,
     "metadata": {},
     "output_type": "execute_result"
    }
   ],
   "source": [
    "# remove observations with missing values '?'\n",
    "df.drop(df[df['horsepower'] == '?'].index, inplace=True)\n",
    "df.shape[0]"
   ]
  },
  {
   "cell_type": "code",
   "execution_count": 8,
   "metadata": {},
   "outputs": [
    {
     "data": {
      "text/plain": [
       "0      chevrolet\n",
       "1          buick\n",
       "2       plymouth\n",
       "3            amc\n",
       "4           ford\n",
       "         ...    \n",
       "393         ford\n",
       "394           vw\n",
       "395        dodge\n",
       "396         ford\n",
       "397        chevy\n",
       "Name: car_make, Length: 392, dtype: object"
      ]
     },
     "execution_count": 8,
     "metadata": {},
     "output_type": "execute_result"
    }
   ],
   "source": [
    "# create column with first word of name\n",
    "df['car_make'] = df['car_name'].str.split().str[0]\n",
    "df['car_make']"
   ]
  },
  {
   "cell_type": "code",
   "execution_count": 9,
   "metadata": {},
   "outputs": [
    {
     "data": {
      "text/plain": [
       "<matplotlib.axes._subplots.AxesSubplot at 0x7f9b8eb5dc10>"
      ]
     },
     "execution_count": 9,
     "metadata": {},
     "output_type": "execute_result"
    },
    {
     "data": {
      "image/png": "[encoded data removed]",
      "text/plain": [
       "<Figure size 432x288 with 1 Axes>"
      ]
     },
     "metadata": {
      "needs_background": "light"
     },
     "output_type": "display_data"
    }
   ],
   "source": [
    "# correct names\n",
    "df.replace('capri', 'ford', inplace = True)\n",
    "df.replace('chevy', 'chevrolet', inplace = True)\n",
    "df.replace('chevroelt', 'chevrolet', inplace = True)\n",
    "df.replace('maxda', 'mazda', inplace = True)\n",
    "df.replace('mercedes', 'mercedes-benz', inplace = True)\n",
    "df.replace('toyouta', 'toyota', inplace = True)\n",
    "df.replace('vw', 'volkswagen', inplace = True)\n",
    "df.replace('vokswagen', 'volkswagen', inplace = True)\n",
    "\n",
    "# plot distribution of # make of car\n",
    "df['car_make'].value_counts().plot.bar(title='observations by make of car', legend='car_make')"
   ]
  },
  {
   "cell_type": "markdown",
   "metadata": {},
   "source": [
    "### 2: [10pt]\n",
    "\n",
    "Allowed libraries: pandas\n",
    "\n",
    "(a) Lets assume that the goal is to classify the cars into 3 categories based on the weight attribute: light, medium, and heavy. Discover the threshold for each category, so that all samples are divided into three equally-sized bins.\n",
    "\n",
    "(b) Next, plot a histogram to show the count of observations in each bin."
   ]
  },
  {
   "cell_type": "code",
   "execution_count": 10,
   "metadata": {},
   "outputs": [
    {
     "data": {
      "text/plain": [
       "5140.0"
      ]
     },
     "execution_count": 10,
     "metadata": {},
     "output_type": "execute_result"
    }
   ],
   "source": [
    "# maximum weight\n",
    "max_weight = df['weight'].max()\n",
    "max_weight"
   ]
  },
  {
   "cell_type": "code",
   "execution_count": 11,
   "metadata": {},
   "outputs": [
    {
     "data": {
      "text/plain": [
       "1613.0"
      ]
     },
     "execution_count": 11,
     "metadata": {},
     "output_type": "execute_result"
    }
   ],
   "source": [
    "# minimum weight\n",
    "min_weight = df['weight'].min()\n",
    "min_weight"
   ]
  },
  {
   "cell_type": "code",
   "execution_count": 12,
   "metadata": {},
   "outputs": [
    {
     "data": {
      "text/plain": [
       "1175.6666666666667"
      ]
     },
     "execution_count": 12,
     "metadata": {},
     "output_type": "execute_result"
    }
   ],
   "source": [
    "# width of bins\n",
    "num_bins = 3\n",
    "bin_width = (max_weight - min_weight) / num_bins\n",
    "bin_width"
   ]
  },
  {
   "cell_type": "code",
   "execution_count": 13,
   "metadata": {},
   "outputs": [
    {
     "name": "stdout",
     "output_type": "stream",
     "text": [
      "Light: [1613, 2788]\n"
     ]
    }
   ],
   "source": [
    "# threshold for 'light' classification\n",
    "light_lower = int(min_weight)\n",
    "light_upper = light_lower + math.floor(bin_width)\n",
    "print(f'Light: [{light_lower}, {light_upper}]')"
   ]
  },
  {
   "cell_type": "code",
   "execution_count": 14,
   "metadata": {},
   "outputs": [
    {
     "name": "stdout",
     "output_type": "stream",
     "text": [
      "Medium: [2789, 3964]\n"
     ]
    }
   ],
   "source": [
    "# threshold for 'medium' classification\n",
    "medium_lower = light_upper + 1\n",
    "medium_upper = medium_lower + math.floor(bin_width)\n",
    "print(f'Medium: [{medium_lower}, {medium_upper}]')"
   ]
  },
  {
   "cell_type": "code",
   "execution_count": 15,
   "metadata": {},
   "outputs": [
    {
     "name": "stdout",
     "output_type": "stream",
     "text": [
      "Heavy: [3965, 5140]\n"
     ]
    }
   ],
   "source": [
    "# threshold for 'heavy' classification\n",
    "heavy_lower = medium_upper + 1\n",
    "heavy_upper = int(max_weight)\n",
    "print(f'Heavy: [{heavy_lower}, {heavy_upper}]')"
   ]
  },
  {
   "cell_type": "code",
   "execution_count": 16,
   "metadata": {},
   "outputs": [
    {
     "data": {
      "text/plain": [
       "<matplotlib.axes._subplots.AxesSubplot at 0x7f9b8f641dd0>"
      ]
     },
     "execution_count": 16,
     "metadata": {},
     "output_type": "execute_result"
    },
    {
     "data": {
      "image/png": "[encoded data removed]",
      "text/plain": [
       "<Figure size 432x288 with 1 Axes>"
      ]
     },
     "metadata": {
      "needs_background": "light"
     },
     "output_type": "display_data"
    }
   ],
   "source": [
    "# histogram to show count of observations in each bin\n",
    "df['weight'].hist(bins=3)"
   ]
  },
  {
   "cell_type": "code",
   "execution_count": 17,
   "metadata": {},
   "outputs": [
    {
     "data": {
      "text/plain": [
       "<matplotlib.axes._subplots.AxesSubplot at 0x7f9b8f5c1250>"
      ]
     },
     "execution_count": 17,
     "metadata": {},
     "output_type": "execute_result"
    },
    {
     "data": {
      "image/png": "[encoded data removed]",
      "text/plain": [
       "<Figure size 432x288 with 1 Axes>"
      ]
     },
     "metadata": {
      "needs_background": "light"
     },
     "output_type": "display_data"
    }
   ],
   "source": [
    "# alternative plot to show count of observations in each bin\n",
    "out = pd.cut(df['weight'], 3, labels=['light', 'medium', 'heavy'])\n",
    "out.value_counts().plot.bar(title='observations by weight category', legend='weight')"
   ]
  },
  {
   "cell_type": "markdown",
   "metadata": {},
   "source": [
    "### 3: [10pt]\n",
    "\n",
    "Allowed libraries: pandas, seaborn\n",
    "\n",
    "(a) Create a 2D correlation matrix plot, similar to this example (https://heartbeat.fritz.ai/seaborn-heatmaps-13-ways-to-customize-correlation-matrix-visualizations-f1c49c816f07 and use seaborn library. You may use any published code to perform this.\n",
    "\n",
    "(b) Describe the correlations between any two pairs of attributes in the dataset and why it does or does not match your expectation. (i.e., positive or negative correlation)\n"
   ]
  },
  {
   "cell_type": "code",
   "execution_count": 18,
   "metadata": {},
   "outputs": [
    {
     "data": {
      "text/plain": [
       "<matplotlib.axes._subplots.AxesSubplot at 0x7f9b8f8e8150>"
      ]
     },
     "execution_count": 18,
     "metadata": {},
     "output_type": "execute_result"
    },
    {
     "data": {
      "image/png": "[encoded data removed]",
      "text/plain": [
       "<Figure size 432x288 with 2 Axes>"
      ]
     },
     "metadata": {
      "needs_background": "light"
     },
     "output_type": "display_data"
    }
   ],
   "source": [
    "# create 2D correlation matrix plot\n",
    "df['horsepower'] = df['horsepower'].astype(float)\n",
    "sb.heatmap(df.corr(), annot=True, vmin=-1, vmax=1, center=0, cmap='coolwarm', linewidths=1, linecolor='black')"
   ]
  },
  {
   "cell_type": "markdown",
   "metadata": {},
   "source": [
    "#### Describe the correlations between any two pairs of attributes in the dataset and why it does or does not match your expectation\n",
    "There is a strong negative correlation (coefficient $r=-0.83$) between the $\\ weight\\ $  and  $\\ mpg\\ $  attributes in the dataset. This correlation matches my expectation because, intuitively, it makes sense that heavier cars consume fuel less efficiently and get less miles per gallon. Thus, as $\\ weight\\ $ increases, $\\ mpg\\ $ decreases."
   ]
  },
  {
   "cell_type": "markdown",
   "metadata": {},
   "source": [
    "### 4: [20pt]\n",
    "\n",
    "Allowed libraries: pandas, numpy\n",
    "\n",
    "(a) Write a linear regression solver that can accommodate polynomial basis functions on a single variable for prediction of weight. Your code should use the Ordinary Least Squares (OLS) estimator (i.e. the Maximum-likelihood estimator). Code this from scratch. Its recommended to use a library (e.g. numpy) for basic linear algebra operations (addition, multiplication and inverse)."
   ]
  },
  {
   "cell_type": "code",
   "execution_count": 19,
   "metadata": {},
   "outputs": [],
   "source": [
    "class LinearRegressionSolver:\n",
    "    def __init__(self):\n",
    "        self.b = [] # weights\n",
    "        \n",
    "    def fit(self, x, y, order):\n",
    "        X = np.ones(len(x)) # order = 0\n",
    "        \n",
    "        # accomodate polynomial basis functions (of any order >= 0) on single variable\n",
    "        for i in range(order):\n",
    "            X = np.c_[X, np.power(x, i + 1)]\n",
    "        \n",
    "        # Ordinary Least Squares (OLS) estimator\n",
    "        self.b = np.linalg.inv(X.T@X)@(X.T@y)            \n",
    "\n",
    "    def predict(self, x, order):\n",
    "        N = len(x)\n",
    "        \n",
    "        # calculate y_hat values\n",
    "        prediction = []\n",
    "        for i in range(N):\n",
    "            \n",
    "            # accomodate polynomial basis functions (of any order >= 0) \n",
    "            y_hat = self.b[0]\n",
    "            for j in range(order):\n",
    "                y_hat += self.b[j + 1] * x[i] ** (j + 1)\n",
    "            \n",
    "            prediction.append(y_hat)\n",
    "        \n",
    "        return prediction\n",
    "    \n",
    "    def mse(self, y, prediction):\n",
    "        N = len(y)\n",
    "        \n",
    "        # calculate Mean Squared Error (MSE)\n",
    "        squared_error = 0\n",
    "        for i in range(N):\n",
    "            squared_error += (y[i] - prediction[i]) ** 2\n",
    "        \n",
    "        return squared_error / N"
   ]
  },
  {
   "cell_type": "code",
   "execution_count": 20,
   "metadata": {},
   "outputs": [
    {
     "data": {
      "text/plain": [
       "[<matplotlib.lines.Line2D at 0x7f9b8fb57610>]"
      ]
     },
     "execution_count": 20,
     "metadata": {},
     "output_type": "execute_result"
    },
    {
     "data": {
      "image/png": "[encoded data removed]",
      "text/plain": [
       "<Figure size 432x288 with 1 Axes>"
      ]
     },
     "metadata": {
      "needs_background": "light"
     },
     "output_type": "display_data"
    }
   ],
   "source": [
    "# set parameters 'x', 'y', and 'order'\n",
    "# change parameters as desired\n",
    "x = np.array(df['mpg']) \n",
    "y = np.array(df['weight'])\n",
    "order = 4\n",
    "\n",
    "# use LRS for prediction of weight\n",
    "LRS = LinearRegressionSolver()\n",
    "LRS.fit(x, y, order)\n",
    "prediction = LRS.predict(x, order)\n",
    "mse = LRS.mse(y, prediction)\n",
    "\n",
    "# plot to visualize linear regression\n",
    "ax = df.plot.scatter(x='mpg', y='weight')\n",
    "\n",
    "fx = np.linspace(math.floor(x.min()), math.ceil(x.max()), math.ceil(x.max()) - math.floor(x.min()))\n",
    "fy = LRS.b[0]\n",
    "for i in range(order):\n",
    "    fy += LRS.b[i + 1] * fx ** (i + 1)\n",
    "\n",
    "ax.plot(fx, fy, 'r')"
   ]
  }
 ],
 "metadata": {
  "kernelspec": {
   "display_name": "Python 3",
   "language": "python",
   "name": "python3"
  },
  "language_info": {
   "codemirror_mode": {
    "name": "ipython",
    "version": 3
   },
   "file_extension": ".py",
   "mimetype": "text/x-python",
   "name": "python",
   "nbconvert_exporter": "python",
   "pygments_lexer": "ipython3",
   "version": "3.7.6"
  }
 },
 "nbformat": 4,
 "nbformat_minor": 4
}
