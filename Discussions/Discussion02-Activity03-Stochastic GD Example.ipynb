{
 "cells": [
  {
   "cell_type": "code",
   "execution_count": 16,
   "metadata": {},
   "outputs": [
    {
     "data": {
      "text/html": [
       "<div>\n",
       "<style scoped>\n",
       "    .dataframe tbody tr th:only-of-type {\n",
       "        vertical-align: middle;\n",
       "    }\n",
       "\n",
       "    .dataframe tbody tr th {\n",
       "        vertical-align: top;\n",
       "    }\n",
       "\n",
       "    .dataframe thead th {\n",
       "        text-align: right;\n",
       "    }\n",
       "</style>\n",
       "<table border=\"1\" class=\"dataframe\">\n",
       "  <thead>\n",
       "    <tr style=\"text-align: right;\">\n",
       "      <th></th>\n",
       "      <th>x1</th>\n",
       "      <th>x2</th>\n",
       "      <th>y</th>\n",
       "    </tr>\n",
       "  </thead>\n",
       "  <tbody>\n",
       "    <tr>\n",
       "      <th>0</th>\n",
       "      <td>4</td>\n",
       "      <td>1</td>\n",
       "      <td>2</td>\n",
       "    </tr>\n",
       "    <tr>\n",
       "      <th>1</th>\n",
       "      <td>2</td>\n",
       "      <td>8</td>\n",
       "      <td>-14</td>\n",
       "    </tr>\n",
       "    <tr>\n",
       "      <th>2</th>\n",
       "      <td>1</td>\n",
       "      <td>0</td>\n",
       "      <td>1</td>\n",
       "    </tr>\n",
       "    <tr>\n",
       "      <th>3</th>\n",
       "      <td>3</td>\n",
       "      <td>2</td>\n",
       "      <td>-1</td>\n",
       "    </tr>\n",
       "    <tr>\n",
       "      <th>4</th>\n",
       "      <td>1</td>\n",
       "      <td>4</td>\n",
       "      <td>-7</td>\n",
       "    </tr>\n",
       "    <tr>\n",
       "      <th>5</th>\n",
       "      <td>6</td>\n",
       "      <td>7</td>\n",
       "      <td>-8</td>\n",
       "    </tr>\n",
       "  </tbody>\n",
       "</table>\n",
       "</div>"
      ],
      "text/plain": [
       "   x1  x2   y\n",
       "0   4   1   2\n",
       "1   2   8 -14\n",
       "2   1   0   1\n",
       "3   3   2  -1\n",
       "4   1   4  -7\n",
       "5   6   7  -8"
      ]
     },
     "execution_count": 16,
     "metadata": {},
     "output_type": "execute_result"
    }
   ],
   "source": [
    "# Discussion1-Activity03\n",
    "# Create the log table containing these columns and fill out the table for 1 epoch for the dataset provided in the example below:\n",
    "# https://towardsdatascience.com/step-by-step-tutorial-on-linear-regression-with-stochastic-gradient-descent-1d35b088a843\n",
    "\n",
    "import pandas as pd\n",
    "# creating a dataframe for the dataset\n",
    "d = {'x1': [4, 2, 1,3,1,6], 'x2': [1, 8,0, 2,4,7], 'y': [2, -14, 1, -1, -7, -8]}\n",
    "df = pd.DataFrame(data=d)\n",
    "df"
   ]
  },
  {
   "cell_type": "code",
   "execution_count": 24,
   "metadata": {},
   "outputs": [
    {
     "data": {
      "text/html": [
       "<div>\n",
       "<style scoped>\n",
       "    .dataframe tbody tr th:only-of-type {\n",
       "        vertical-align: middle;\n",
       "    }\n",
       "\n",
       "    .dataframe tbody tr th {\n",
       "        vertical-align: top;\n",
       "    }\n",
       "\n",
       "    .dataframe thead th {\n",
       "        text-align: right;\n",
       "    }\n",
       "</style>\n",
       "<table border=\"1\" class=\"dataframe\">\n",
       "  <thead>\n",
       "    <tr style=\"text-align: right;\">\n",
       "      <th></th>\n",
       "      <th>x1</th>\n",
       "      <th>x2</th>\n",
       "      <th>y</th>\n",
       "      <th>y_hat</th>\n",
       "      <th>loss</th>\n",
       "      <th>y - y_hat</th>\n",
       "      <th>w1</th>\n",
       "      <th>w2</th>\n",
       "      <th>b</th>\n",
       "    </tr>\n",
       "  </thead>\n",
       "  <tbody>\n",
       "    <tr>\n",
       "      <th>0</th>\n",
       "      <td>4</td>\n",
       "      <td>1</td>\n",
       "      <td>2</td>\n",
       "      <td>-0.116000</td>\n",
       "      <td>4.477456</td>\n",
       "      <td>2.116000</td>\n",
       "      <td>-0.017000</td>\n",
       "      <td>-0.048000</td>\n",
       "      <td>0.000000</td>\n",
       "    </tr>\n",
       "    <tr>\n",
       "      <th>1</th>\n",
       "      <td>2</td>\n",
       "      <td>8</td>\n",
       "      <td>-14</td>\n",
       "      <td>3.179200</td>\n",
       "      <td>295.124913</td>\n",
       "      <td>-17.179200</td>\n",
       "      <td>0.829400</td>\n",
       "      <td>0.163600</td>\n",
       "      <td>0.211600</td>\n",
       "    </tr>\n",
       "    <tr>\n",
       "      <th>2</th>\n",
       "      <td>1</td>\n",
       "      <td>0</td>\n",
       "      <td>1</td>\n",
       "      <td>-4.112760</td>\n",
       "      <td>26.140315</td>\n",
       "      <td>5.112760</td>\n",
       "      <td>-2.606440</td>\n",
       "      <td>-13.579760</td>\n",
       "      <td>-1.506320</td>\n",
       "    </tr>\n",
       "    <tr>\n",
       "      <th>3</th>\n",
       "      <td>3</td>\n",
       "      <td>2</td>\n",
       "      <td>-1</td>\n",
       "      <td>-34.440056</td>\n",
       "      <td>1118.237345</td>\n",
       "      <td>33.440056</td>\n",
       "      <td>-2.095164</td>\n",
       "      <td>-13.579760</td>\n",
       "      <td>-0.995044</td>\n",
       "    </tr>\n",
       "    <tr>\n",
       "      <th>4</th>\n",
       "      <td>1</td>\n",
       "      <td>4</td>\n",
       "      <td>-7</td>\n",
       "      <td>-17.281181</td>\n",
       "      <td>105.702679</td>\n",
       "      <td>10.281181</td>\n",
       "      <td>7.936853</td>\n",
       "      <td>-6.891749</td>\n",
       "      <td>2.348962</td>\n",
       "    </tr>\n",
       "    <tr>\n",
       "      <th>5</th>\n",
       "      <td>6</td>\n",
       "      <td>7</td>\n",
       "      <td>-8</td>\n",
       "      <td>37.711970</td>\n",
       "      <td>2089.584165</td>\n",
       "      <td>-45.711970</td>\n",
       "      <td>8.964971</td>\n",
       "      <td>-2.779276</td>\n",
       "      <td>3.377080</td>\n",
       "    </tr>\n",
       "  </tbody>\n",
       "</table>\n",
       "</div>"
      ],
      "text/plain": [
       "   x1  x2   y      y_hat         loss  y - y_hat        w1         w2  \\\n",
       "0   4   1   2  -0.116000     4.477456   2.116000 -0.017000  -0.048000   \n",
       "1   2   8 -14   3.179200   295.124913 -17.179200  0.829400   0.163600   \n",
       "2   1   0   1  -4.112760    26.140315   5.112760 -2.606440 -13.579760   \n",
       "3   3   2  -1 -34.440056  1118.237345  33.440056 -2.095164 -13.579760   \n",
       "4   1   4  -7 -17.281181   105.702679  10.281181  7.936853  -6.891749   \n",
       "5   6   7  -8  37.711970  2089.584165 -45.711970  8.964971  -2.779276   \n",
       "\n",
       "          b  \n",
       "0  0.000000  \n",
       "1  0.211600  \n",
       "2 -1.506320  \n",
       "3 -0.995044  \n",
       "4  2.348962  \n",
       "5  3.377080  "
      ]
     },
     "execution_count": 24,
     "metadata": {},
     "output_type": "execute_result"
    }
   ],
   "source": [
    "# batch size =1, so we have 6 batches altogether. \n",
    "# We complete 1 epoch when the model has iterated through all the batches once.\n",
    " \n",
    "# we are reporting : x1, x2, y, y_hat, (y- y_hat), w1, w2, b  ... assuming y_hat = w1x1 + w2x2 + b\n",
    "# goal: find the best w (weight) and b (bias) values using Stochastic GD. \n",
    "\n",
    "data= [] \n",
    "# Initializing the weights using Truncated Normal Distribution \n",
    "w_1 = -0.017\n",
    "w_2 = -0.048\n",
    "b=0 \n",
    "\n",
    "# learning rate\n",
    "a = 0.05\n",
    " \n",
    "\n",
    "# the size of dataset is 6 (6 samples)\n",
    "# Batch size = 1 , so we have 6 batches in 1 apoch: \n",
    "for i in range(0, 6):\n",
    "    x_1 = df.loc[i][0]\n",
    "    x_2 = df.loc[i][1]\n",
    "    y = df.loc[i][2]\n",
    "    y_hat = (w_1*x_1) + (w_2*x_2) + b\n",
    "    loss = pow((y - y_hat) , 2)\n",
    "    data.append([x_1, x_2, y, y_hat, loss, (y - y_hat) ,w_1,w_2,b])\n",
    "    \n",
    "    # updated parameters\n",
    "    w_1_update = w_1 + a*(2* (y - y_hat) *x_1)\n",
    "    w_2_update = w_2 + a*(2*(y - y_hat)*x_2)\n",
    "    b_update = b + a*(2* (y - y_hat))\n",
    "    \n",
    "    w_1 = w_1_update\n",
    "    w_2 = w_2_update\n",
    "    b = b_update\n",
    "    # end of ith batch\n",
    "    \n",
    "output = pd.DataFrame(data, columns=['x1', 'x2', 'y', 'y_hat', 'loss' , 'y - y_hat' , 'w1', 'w2' , 'b'])\n",
    "\n",
    "output \n"
   ]
  },
  {
   "cell_type": "code",
   "execution_count": 29,
   "metadata": {},
   "outputs": [
    {
     "data": {
      "text/plain": [
       "0       4.477456\n",
       "1     295.124913\n",
       "2      26.140315\n",
       "3    1118.237345\n",
       "4     105.702679\n",
       "5    2089.584165\n",
       "Name: loss, dtype: float64"
      ]
     },
     "execution_count": 29,
     "metadata": {},
     "output_type": "execute_result"
    }
   ],
   "source": [
    "output['loss']"
   ]
  },
  {
   "cell_type": "code",
   "execution_count": 30,
   "metadata": {},
   "outputs": [
    {
     "data": {
      "text/plain": [
       "[<matplotlib.lines.Line2D at 0x7ff8983e1d00>]"
      ]
     },
     "execution_count": 30,
     "metadata": {},
     "output_type": "execute_result"
    },
    {
     "data": {
      "image/png": "[encoded data removed]",
      "text/plain": [
       "<Figure size 432x288 with 1 Axes>"
      ]
     },
     "metadata": {
      "needs_background": "light"
     },
     "output_type": "display_data"
    }
   ],
   "source": [
    "import matplotlib.pyplot as plt\n",
    "plt.plot([0, 1, 2, 3, 4, 5],output['loss'] )"
   ]
  },
  {
   "cell_type": "code",
   "execution_count": 32,
   "metadata": {},
   "outputs": [
    {
     "data": {
      "image/png": "[encoded data removed]",
      "text/plain": [
       "<Figure size 432x288 with 1 Axes>"
      ]
     },
     "metadata": {
      "needs_background": "light"
     },
     "output_type": "display_data"
    }
   ],
   "source": [
    "import matplotlib.pyplot as plt\n",
    "plt.plot(output['loss'],'r-',label='loss in epoch 1')\n",
    "plt.legend()\n",
    "plt.show()"
   ]
  },
  {
   "cell_type": "code",
   "execution_count": null,
   "metadata": {},
   "outputs": [],
   "source": []
  }
 ],
 "metadata": {
  "kernelspec": {
   "display_name": "Python 3",
   "language": "python",
   "name": "python3"
  },
  "language_info": {
   "codemirror_mode": {
    "name": "ipython",
    "version": 3
   },
   "file_extension": ".py",
   "mimetype": "text/x-python",
   "name": "python",
   "nbconvert_exporter": "python",
   "pygments_lexer": "ipython3",
   "version": "3.7.6"
  }
 },
 "nbformat": 4,
 "nbformat_minor": 4
}
