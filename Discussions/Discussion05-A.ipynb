{
 "cells": [
  {
   "cell_type": "code",
   "execution_count": 10,
   "metadata": {},
   "outputs": [
    {
     "data": {
      "text/html": [
       "<div>\n",
       "<style scoped>\n",
       "    .dataframe tbody tr th:only-of-type {\n",
       "        vertical-align: middle;\n",
       "    }\n",
       "\n",
       "    .dataframe tbody tr th {\n",
       "        vertical-align: top;\n",
       "    }\n",
       "\n",
       "    .dataframe thead th {\n",
       "        text-align: right;\n",
       "    }\n",
       "</style>\n",
       "<table border=\"1\" class=\"dataframe\">\n",
       "  <thead>\n",
       "    <tr style=\"text-align: right;\">\n",
       "      <th></th>\n",
       "      <th>sepal_length</th>\n",
       "      <th>sepal_width</th>\n",
       "      <th>petal_length</th>\n",
       "      <th>petal_width</th>\n",
       "      <th>target</th>\n",
       "    </tr>\n",
       "  </thead>\n",
       "  <tbody>\n",
       "    <tr>\n",
       "      <th>0</th>\n",
       "      <td>5.1</td>\n",
       "      <td>3.5</td>\n",
       "      <td>1.4</td>\n",
       "      <td>0.2</td>\n",
       "      <td>0.0</td>\n",
       "    </tr>\n",
       "    <tr>\n",
       "      <th>1</th>\n",
       "      <td>4.9</td>\n",
       "      <td>3.0</td>\n",
       "      <td>1.4</td>\n",
       "      <td>0.2</td>\n",
       "      <td>0.0</td>\n",
       "    </tr>\n",
       "    <tr>\n",
       "      <th>2</th>\n",
       "      <td>4.7</td>\n",
       "      <td>3.2</td>\n",
       "      <td>1.3</td>\n",
       "      <td>0.2</td>\n",
       "      <td>0.0</td>\n",
       "    </tr>\n",
       "    <tr>\n",
       "      <th>3</th>\n",
       "      <td>4.6</td>\n",
       "      <td>3.1</td>\n",
       "      <td>1.5</td>\n",
       "      <td>0.2</td>\n",
       "      <td>0.0</td>\n",
       "    </tr>\n",
       "    <tr>\n",
       "      <th>4</th>\n",
       "      <td>5.0</td>\n",
       "      <td>3.6</td>\n",
       "      <td>1.4</td>\n",
       "      <td>0.2</td>\n",
       "      <td>0.0</td>\n",
       "    </tr>\n",
       "    <tr>\n",
       "      <th>...</th>\n",
       "      <td>...</td>\n",
       "      <td>...</td>\n",
       "      <td>...</td>\n",
       "      <td>...</td>\n",
       "      <td>...</td>\n",
       "    </tr>\n",
       "    <tr>\n",
       "      <th>145</th>\n",
       "      <td>6.7</td>\n",
       "      <td>3.0</td>\n",
       "      <td>5.2</td>\n",
       "      <td>2.3</td>\n",
       "      <td>2.0</td>\n",
       "    </tr>\n",
       "    <tr>\n",
       "      <th>146</th>\n",
       "      <td>6.3</td>\n",
       "      <td>2.5</td>\n",
       "      <td>5.0</td>\n",
       "      <td>1.9</td>\n",
       "      <td>2.0</td>\n",
       "    </tr>\n",
       "    <tr>\n",
       "      <th>147</th>\n",
       "      <td>6.5</td>\n",
       "      <td>3.0</td>\n",
       "      <td>5.2</td>\n",
       "      <td>2.0</td>\n",
       "      <td>2.0</td>\n",
       "    </tr>\n",
       "    <tr>\n",
       "      <th>148</th>\n",
       "      <td>6.2</td>\n",
       "      <td>3.4</td>\n",
       "      <td>5.4</td>\n",
       "      <td>2.3</td>\n",
       "      <td>2.0</td>\n",
       "    </tr>\n",
       "    <tr>\n",
       "      <th>149</th>\n",
       "      <td>5.9</td>\n",
       "      <td>3.0</td>\n",
       "      <td>5.1</td>\n",
       "      <td>1.8</td>\n",
       "      <td>2.0</td>\n",
       "    </tr>\n",
       "  </tbody>\n",
       "</table>\n",
       "<p>150 rows × 5 columns</p>\n",
       "</div>"
      ],
      "text/plain": [
       "     sepal_length  sepal_width  petal_length  petal_width  target\n",
       "0             5.1          3.5           1.4          0.2     0.0\n",
       "1             4.9          3.0           1.4          0.2     0.0\n",
       "2             4.7          3.2           1.3          0.2     0.0\n",
       "3             4.6          3.1           1.5          0.2     0.0\n",
       "4             5.0          3.6           1.4          0.2     0.0\n",
       "..            ...          ...           ...          ...     ...\n",
       "145           6.7          3.0           5.2          2.3     2.0\n",
       "146           6.3          2.5           5.0          1.9     2.0\n",
       "147           6.5          3.0           5.2          2.0     2.0\n",
       "148           6.2          3.4           5.4          2.3     2.0\n",
       "149           5.9          3.0           5.1          1.8     2.0\n",
       "\n",
       "[150 rows x 5 columns]"
      ]
     },
     "execution_count": 10,
     "metadata": {},
     "output_type": "execute_result"
    }
   ],
   "source": [
    "import numpy as np\n",
    "import pandas as pd\n",
    "import matplotlib.pyplot as plt\n",
    "from sklearn import datasets\n",
    "from sklearn.linear_model import LogisticRegression\n",
    "\n",
    "# import some data to play with\n",
    "iris = datasets.load_iris()\n",
    "iris.data\n",
    "comb = np.c_[iris.data, iris.target]\n",
    "df = pd.DataFrame(comb, columns = ['sepal_length', 'sepal_width', 'petal_length', 'petal_width', 'target'])\n",
    "df.head(150)"
   ]
  },
  {
   "cell_type": "code",
   "execution_count": 2,
   "metadata": {},
   "outputs": [
    {
     "name": "stdout",
     "output_type": "stream",
     "text": [
      "SVM:\n",
      "col_0  count\n",
      "row_0       \n",
      "-1         7\n",
      " 1       143\n",
      "Isolation Forest:\n",
      "col_0  count\n",
      "row_0       \n",
      "-1        45\n",
      " 1       105\n"
     ]
    }
   ],
   "source": [
    "#Outlier detection\n",
    "from sklearn.svm import OneClassSVM\n",
    "from sklearn.ensemble import IsolationForest\n",
    "detector1 = OneClassSVM(nu=0.05)\n",
    "detector2 = IsolationForest(n_jobs=-1)\n",
    "predicted1 = detector1.fit_predict(df)\n",
    "predicted2 = detector2.fit_predict(df)\n",
    "print(\"SVM:\")\n",
    "print(pd.crosstab(predicted1, columns=['count']))\n",
    "print(\"Isolation Forest:\")\n",
    "print(pd.crosstab(predicted2, columns=['count']))"
   ]
  },
  {
   "cell_type": "code",
   "execution_count": 3,
   "metadata": {},
   "outputs": [
    {
     "name": "stdout",
     "output_type": "stream",
     "text": [
      "SVM vs IF\n",
      "Size of intersection: 7\n"
     ]
    }
   ],
   "source": [
    "svm_outcome = np.where(predicted1 == -1)\n",
    "if_outcome = np.where(predicted2 == -1)\n",
    "svm_if_intersection = np.intersect1d(svm_outcome, if_outcome)\n",
    "print(\"SVM vs IF\")\n",
    "print(f\"Size of intersection: {len(svm_if_intersection)}\")"
   ]
  },
  {
   "cell_type": "code",
   "execution_count": 5,
   "metadata": {},
   "outputs": [
    {
     "name": "stdout",
     "output_type": "stream",
     "text": [
      "Size before dropping outlier(s): 150\n",
      "Size after dropping outlier(s): 143\n"
     ]
    }
   ],
   "source": [
    "#Dropping SVM outliers\n",
    "print(f\"Size before dropping outlier(s): {len(df)}\")\n",
    "df_clean = df.drop(svm_outcome[0])\n",
    "print(f\"Size after dropping outlier(s): {len(df_clean)}\")"
   ]
  },
  {
   "cell_type": "code",
   "execution_count": 6,
   "metadata": {},
   "outputs": [
    {
     "data": {
      "image/png": "[encoded data removed]",
      "text/plain": [
       "<Figure size 432x288 with 2 Axes>"
      ]
     },
     "metadata": {
      "needs_background": "light"
     },
     "output_type": "display_data"
    }
   ],
   "source": [
    "#Can drop columns that are highly correlated to ech other\n",
    "import seaborn as sns\n",
    "g = sns.heatmap(df_clean.corr(),annot=True)"
   ]
  },
  {
   "cell_type": "code",
   "execution_count": 7,
   "metadata": {},
   "outputs": [],
   "source": [
    "from sklearn.model_selection import train_test_split\n",
    "train, test = train_test_split(df_clean, train_size=0.7, random_state=1)"
   ]
  },
  {
   "cell_type": "code",
   "execution_count": null,
   "metadata": {},
   "outputs": [],
   "source": [
    "from sklearn.neural_network import MLPClassifier\n",
    "nn = MLPClassifier(hidden_layer_sizes=(3,3), activation = 'logistic', solver='sgd', random_state = 1)\n",
    "weights=[]\n",
    "train_scores=[]\n",
    "test_scores=[]\n",
    "#Remember to shuffle the training data before starting the training process\n",
    "for i in range(0,500):\n",
    "    nn.partial_fit(df_clean.drop(columns=['target']).iloc[i%143].to_numpy().reshape(1,-1), [df_clean['target'].iloc[i%143]], classes=np.unique(df_clean['target']))\n",
    "    weights.append(nn.coefs_[2])\n",
    "    test_scores.append(nn.score(df_clean.drop(columns=['target']), df_clean['target']))\n",
    "    #Do same with the test set\n",
    "    \n",
    "#you now have the weights, training and testing score at every iteration, can create plots\n",
    "#you can change the number of iterations based on these plots, to avoid overfitting/underfitting"
   ]
  },
  {
   "cell_type": "code",
   "execution_count": null,
   "metadata": {},
   "outputs": [],
   "source": []
  }
 ],
 "metadata": {
  "kernelspec": {
   "display_name": "Python 3",
   "language": "python",
   "name": "python3"
  },
  "language_info": {
   "codemirror_mode": {
    "name": "ipython",
    "version": 3
   },
   "file_extension": ".py",
   "mimetype": "text/x-python",
   "name": "python",
   "nbconvert_exporter": "python",
   "pygments_lexer": "ipython3",
   "version": "3.7.6"
  }
 },
 "nbformat": 4,
 "nbformat_minor": 4
}
