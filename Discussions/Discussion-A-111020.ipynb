{
 "cells": [
  {
   "cell_type": "markdown",
   "metadata": {},
   "source": [
    "# Discussion A - #6, week 7, 11/10/20\n",
    "\n",
    "## Agenda\n",
    "\n",
    "\n",
    "- Naive Bayes - Generative example\n",
    "- Imbalanced Data Strategies"
   ]
  },
  {
   "cell_type": "code",
   "execution_count": 246,
   "metadata": {},
   "outputs": [],
   "source": [
    "from sklearn import datasets, naive_bayes, metrics, preprocessing\n",
    "from sklearn.model_selection import train_test_split\n",
    "import matplotlib.pyplot as plt\n",
    "import numpy as np\n",
    "\n",
    "# The digits dataset\n",
    "digits = datasets.load_digits()"
   ]
  },
  {
   "cell_type": "markdown",
   "metadata": {},
   "source": [
    "### What is in this dataset?"
   ]
  },
  {
   "cell_type": "markdown",
   "metadata": {},
   "source": [
    "#### Features"
   ]
  },
  {
   "cell_type": "code",
   "execution_count": 4,
   "metadata": {},
   "outputs": [
    {
     "data": {
      "text/plain": [
       "(1797, 64)"
      ]
     },
     "execution_count": 4,
     "metadata": {},
     "output_type": "execute_result"
    }
   ],
   "source": [
    "digits.data.shape"
   ]
  },
  {
   "cell_type": "code",
   "execution_count": 35,
   "metadata": {},
   "outputs": [
    {
     "data": {
      "text/plain": [
       "array([ 0.,  0.,  5., 13.,  9.,  1.,  0.,  0.,  0.,  0., 13., 15., 10.,\n",
       "       15.,  5.,  0.,  0.,  3., 15.,  2.,  0., 11.,  8.,  0.,  0.,  4.,\n",
       "       12.,  0.,  0.,  8.,  8.,  0.,  0.,  5.,  8.,  0.,  0.,  9.,  8.,\n",
       "        0.,  0.,  4., 11.,  0.,  1., 12.,  7.,  0.,  0.,  2., 14.,  5.,\n",
       "       10., 12.,  0.,  0.,  0.,  0.,  6., 13., 10.,  0.,  0.,  0.])"
      ]
     },
     "execution_count": 35,
     "metadata": {},
     "output_type": "execute_result"
    }
   ],
   "source": [
    "digits.data[0]"
   ]
  },
  {
   "cell_type": "code",
   "execution_count": 149,
   "metadata": {},
   "outputs": [
    {
     "data": {
      "text/plain": [
       "array([[ 0.,  0.,  5., 13.,  9.,  1.,  0.,  0.],\n",
       "       [ 0.,  0., 13., 15., 10., 15.,  5.,  0.],\n",
       "       [ 0.,  3., 15.,  2.,  0., 11.,  8.,  0.],\n",
       "       [ 0.,  4., 12.,  0.,  0.,  8.,  8.,  0.],\n",
       "       [ 0.,  5.,  8.,  0.,  0.,  9.,  8.,  0.],\n",
       "       [ 0.,  4., 11.,  0.,  1., 12.,  7.,  0.],\n",
       "       [ 0.,  2., 14.,  5., 10., 12.,  0.,  0.],\n",
       "       [ 0.,  0.,  6., 13., 10.,  0.,  0.,  0.]])"
      ]
     },
     "execution_count": 149,
     "metadata": {},
     "output_type": "execute_result"
    }
   ],
   "source": [
    "digits.data[0].reshape(8,8)"
   ]
  },
  {
   "cell_type": "markdown",
   "metadata": {},
   "source": [
    "#### Classes"
   ]
  },
  {
   "cell_type": "code",
   "execution_count": 18,
   "metadata": {},
   "outputs": [
    {
     "data": {
      "text/plain": [
       "array([0, 1, 2, ..., 8, 9, 8])"
      ]
     },
     "execution_count": 18,
     "metadata": {},
     "output_type": "execute_result"
    }
   ],
   "source": [
    "digits.target"
   ]
  },
  {
   "cell_type": "code",
   "execution_count": 34,
   "metadata": {},
   "outputs": [
    {
     "name": "stdout",
     "output_type": "stream",
     "text": [
      "[0, 1, 2, 3, 4, 5, 6, 7, 8, 9]\n"
     ]
    }
   ],
   "source": [
    "classes = [x for x in set(digits.target)]\n",
    "classes.sort()\n",
    "print(classes)"
   ]
  },
  {
   "cell_type": "markdown",
   "metadata": {},
   "source": [
    "#### Visualize some examples"
   ]
  },
  {
   "cell_type": "code",
   "execution_count": 62,
   "metadata": {},
   "outputs": [
    {
     "data": {
      "image/png": "[encoded data removed]",
      "text/plain": [
       "<Figure size 1440x432 with 30 Axes>"
      ]
     },
     "metadata": {
      "needs_background": "light"
     },
     "output_type": "display_data"
    }
   ],
   "source": [
    "fig, axes = plt.subplots(3,10, figsize=(20,6))\n",
    "\n",
    "# we don't *need* to enumerate since our classes are a numerical range\n",
    "# but this is a more general approach\n",
    "for i, x in enumerate(classes):\n",
    "    # find an example of the class\n",
    "    class_indices = np.where(digits.target == i)[0]\n",
    "    \n",
    "    for j in range(3):\n",
    "        # grab a sample and reshape into a matrix\n",
    "        image = digits.data[class_indices[j]].reshape(8,8)\n",
    "\n",
    "        # plot the matrix\n",
    "        axes[j,i].set_title(f'Class {x}')\n",
    "        axes[j,i].imshow(image, interpolation='nearest')"
   ]
  },
  {
   "cell_type": "code",
   "execution_count": 106,
   "metadata": {},
   "outputs": [
    {
     "name": "stdout",
     "output_type": "stream",
     "text": [
      "              precision    recall  f1-score   support\n",
      "\n",
      "           0       1.00      1.00      1.00        27\n",
      "           1       0.54      0.94      0.69        35\n",
      "           2       1.00      0.36      0.53        36\n",
      "           3       0.86      0.86      0.86        29\n",
      "           4       1.00      0.53      0.70        30\n",
      "           5       0.97      0.88      0.92        40\n",
      "           6       0.98      1.00      0.99        44\n",
      "           7       0.65      1.00      0.79        39\n",
      "           8       0.48      0.59      0.53        39\n",
      "           9       1.00      0.61      0.76        41\n",
      "\n",
      "    accuracy                           0.78       360\n",
      "   macro avg       0.85      0.78      0.78       360\n",
      "weighted avg       0.84      0.78      0.77       360\n",
      "\n"
     ]
    }
   ],
   "source": [
    "train_x, test_x, train_y, test_y = train_test_split(digits.data, digits.target, test_size = 0.2, random_state=0)\n",
    "\n",
    "scaler = preprocessing.StandardScaler()\n",
    "train_x_scaled = scaler.fit_transform(train_x)\n",
    "test_x_scaled = scaler.transform(test_x)\n",
    "\n",
    "gnb = naive_bayes.GaussianNB()\n",
    "gnb.fit(train_x_scaled, train_y)\n",
    "gnb_predicted = gnb.predict(test_x_scaled)\n",
    "print(metrics.classification_report(test_y, gnb_predicted))"
   ]
  },
  {
   "cell_type": "code",
   "execution_count": 104,
   "metadata": {},
   "outputs": [
    {
     "data": {
      "text/plain": [
       "Text(0.5, 0.98, 'Confusion Matrix')"
      ]
     },
     "execution_count": 104,
     "metadata": {},
     "output_type": "execute_result"
    },
    {
     "data": {
      "image/png": "[encoded data removed]",
      "text/plain": [
       "<Figure size 432x288 with 2 Axes>"
      ]
     },
     "metadata": {
      "needs_background": "light"
     },
     "output_type": "display_data"
    }
   ],
   "source": [
    "cm = metrics.plot_confusion_matrix(gnb, test_x_scaled, test_y)\n",
    "cm.figure_.suptitle(\"Confusion Matrix\")"
   ]
  },
  {
   "cell_type": "code",
   "execution_count": 139,
   "metadata": {},
   "outputs": [
    {
     "data": {
      "image/png": "[encoded data removed]",
      "text/plain": [
       "<Figure size 720x216 with 3 Axes>"
      ]
     },
     "metadata": {
      "needs_background": "light"
     },
     "output_type": "display_data"
    }
   ],
   "source": [
    "# show 3 confused samples\n",
    "confused = np.where(gnb_predicted != test_y)[0]\n",
    "fig, axes = plt.subplots(1,3, figsize=(10,3))\n",
    "for i in range(3):\n",
    "    image = test_x[confused[i]].reshape(8,8)\n",
    "    axes[i].set_title(f'Predicted: {gnb_predicted[confused[i]]}\\nActual: {test_y[confused[i]]}')\n",
    "    axes[i].imshow(image, interpolation='nearest')"
   ]
  },
  {
   "cell_type": "markdown",
   "metadata": {},
   "source": [
    "#### Generative"
   ]
  },
  {
   "cell_type": "markdown",
   "metadata": {},
   "source": [
    "Naive Bayes learns the probability distribution for every feature.  In the digits case, this means that it has the conditional probability distribution for each pixel given a specific class.\n",
    "\n",
    "We can extract that data back and out and verify for ourselves that, in the case of Gaussian Naive Bayes, the probability follows a normal distribution."
   ]
  },
  {
   "cell_type": "code",
   "execution_count": 148,
   "metadata": {},
   "outputs": [
    {
     "data": {
      "text/plain": [
       "(array([  8.,  44., 113., 172., 212., 223., 144.,  55.,  24.,   5.]),\n",
       " array([-1.30553742, -1.07810366, -0.8506699 , -0.62323614, -0.39580238,\n",
       "        -0.16836862,  0.05906514,  0.2864989 ,  0.51393265,  0.74136641,\n",
       "         0.96880017]),\n",
       " <BarContainer object of 10 artists>)"
      ]
     },
     "execution_count": 148,
     "metadata": {},
     "output_type": "execute_result"
    },
    {
     "data": {
      "image/png": "[encoded data removed]",
      "text/plain": [
       "<Figure size 432x288 with 1 Axes>"
      ]
     },
     "metadata": {
      "needs_background": "light"
     },
     "output_type": "display_data"
    }
   ],
   "source": [
    "plt.hist(np.random.normal(gnb.theta_[0][2], gnb.sigma_[0][2],1000))"
   ]
  },
  {
   "cell_type": "markdown",
   "metadata": {},
   "source": [
    "That also means that we can generate new samples from the learned probability distribution.\n",
    "\n",
    "In the example below, we can visualize what pixels that GNB thought were most important."
   ]
  },
  {
   "cell_type": "code",
   "execution_count": 144,
   "metadata": {},
   "outputs": [
    {
     "data": {
      "image/png": "[encoded data removed]",
      "text/plain": [
       "<Figure size 1440x720 with 10 Axes>"
      ]
     },
     "metadata": {
      "needs_background": "light"
     },
     "output_type": "display_data"
    }
   ],
   "source": [
    "fig, axes = plt.subplots(1,10, figsize=(20,10))\n",
    "\n",
    "for i,x in enumerate(classes):\n",
    "    new_features = []\n",
    "    for j in range(64):\n",
    "        new_features.append(np.mean(np.random.normal(gnb.theta_[i][j],gnb.sigma_[i][j],10000)))\n",
    "\n",
    "    image = scaler.inverse_transform(np.asarray(new_features)).reshape(8,8)\n",
    "\n",
    "    # plot the matrix\n",
    "    axes[i].set_title(f'Class {x}')\n",
    "    axes[i].imshow(image)"
   ]
  },
  {
   "cell_type": "markdown",
   "metadata": {},
   "source": [
    "### Imbalanced Data Strategies"
   ]
  },
  {
   "cell_type": "markdown",
   "metadata": {},
   "source": [
    "Overview\n",
    "- Over-sampling\n",
    "    - draw extra samples (with replacement) for the minority class\n",
    "    - create synthetic samples (eg. SMOTE, nearest neighbors)\n",
    "- Under-sampling\n",
    "    - discard samples from the majority class to match the minority class\n",
    "- Weighting\n",
    "    - weights (n_class / n_all_classes) are typically incorporated to the loss function\n",
    "- Ensembles\n",
    "    - bagging - many weak classifiers are trained using random samples of the data\n",
    "    - boosting - iterative training of classifiers that try to minimize the error for the weakest class\n",
    " \n",
    "Approach\n",
    "- Reformulate the digits dataset as imblanced.\n",
    "    - Map 9 => True, !9 => False\n",
    "- Test over-sampling\n",
    "- Test under-sampling\n",
    "\n",
    "See also:\n",
    "- https://github.com/scikit-learn-contrib/imbalanced-learn\n",
    "    - implementations of many popular techniques\n",
    "    - compatible with sklearn API\n",
    "- sklearn classifiers that support class_weight (eg. SVC https://scikit-learn.org/stable/modules/generated/sklearn.svm.SVC.html)\n",
    "- sklearn classifiers that support bootstrapping (eg. RandomForest https://scikit-learn.org/stable/modules/generated/sklearn.ensemble.RandomForestClassifier.html)"
   ]
  },
  {
   "cell_type": "markdown",
   "metadata": {},
   "source": [
    "#### Imbalance-ization"
   ]
  },
  {
   "cell_type": "code",
   "execution_count": 247,
   "metadata": {},
   "outputs": [
    {
     "name": "stdout",
     "output_type": "stream",
     "text": [
      "Training support: (array([0, 1]), array([1029,  120], dtype=int64))\n",
      "Development support: (array([0, 1]), array([259,  29], dtype=int64))\n",
      "Test support: (array([0, 1]), array([329,  31], dtype=int64))\n"
     ]
    }
   ],
   "source": [
    "train_x, test_x, train_y, test_y = train_test_split(digits.data, digits.target, test_size = 0.2)\n",
    "train_x, dev_x, train_y, dev_y = train_test_split(train_x, train_y, test_size = 0.2)\n",
    "\n",
    "scaler = preprocessing.StandardScaler()\n",
    "train_x_scaled = scaler.fit_transform(train_x)\n",
    "dev_x_scaled = scaler.transform(dev_x)\n",
    "test_x_scaled = scaler.transform(test_x)\n",
    "\n",
    "train_y_imbalanced = (train_y == 9).astype(int)\n",
    "dev_y_imbalanced = (dev_y == 9).astype(int)\n",
    "test_y_imbalanced = (test_y == 9).astype(int)\n",
    "\n",
    "print(f'Training support: {np.unique(train_y_imbalanced, return_counts=True)}')\n",
    "print(f'Development support: {np.unique(dev_y_imbalanced, return_counts=True)}')\n",
    "print(f'Test support: {np.unique(test_y_imbalanced, return_counts=True)}')"
   ]
  },
  {
   "cell_type": "markdown",
   "metadata": {},
   "source": [
    "Remember to always look at your data so that you understand what you're putting into your models.  Models aren't magical, they're just math.\n",
    "\n",
    "About 10% of samples now belong to the positive class.  This should match our expectations assuming that the digits set was originally balanced and we re-coded 1/10 of the classes to be true and all else false."
   ]
  },
  {
   "cell_type": "markdown",
   "metadata": {},
   "source": [
    "#### Baseline"
   ]
  },
  {
   "cell_type": "markdown",
   "metadata": {},
   "source": [
    "The previous f1-score for the 9-class was 0.76, with an overall accuracy of 0.78."
   ]
  },
  {
   "cell_type": "code",
   "execution_count": 241,
   "metadata": {},
   "outputs": [
    {
     "name": "stdout",
     "output_type": "stream",
     "text": [
      "              precision    recall  f1-score   support\n",
      "\n",
      "           0       1.00      0.50      0.67       327\n",
      "           1       0.17      1.00      0.29        33\n",
      "\n",
      "    accuracy                           0.55       360\n",
      "   macro avg       0.58      0.75      0.48       360\n",
      "weighted avg       0.92      0.55      0.63       360\n",
      "\n"
     ]
    }
   ],
   "source": [
    "gnb2 = naive_bayes.GaussianNB()\n",
    "gnb2.fit(train_x_scaled, train_y_imbalanced)\n",
    "gnb2_predicted = gnb2.predict(test_x_scaled)\n",
    "print(metrics.classification_report(test_y_imbalanced, gnb2_predicted))"
   ]
  },
  {
   "cell_type": "markdown",
   "metadata": {},
   "source": [
    "Good!  The class imbalance made it more difficult for our classifier to figure out what is a 9.\n",
    "\n",
    "**Goal**: Get back to the original f1-score the 9-class."
   ]
  },
  {
   "cell_type": "markdown",
   "metadata": {},
   "source": [
    "#### Over-sampling\n",
    "\n",
    "We will attempt different over-sampling ratios.  For example, we will re-sample our 9's up to 25% of the number of majority class from 10%.  As always though, we want to be cautious how much we manipulate our dataset from the original condition.  The further that it is engineered, the less representative of reality it becomes and may not generalize as well.\n",
    "\n",
    "In this case I will use the development dataset since over-sampling is essentially a hyperparameter.  We will want to test the performance against an unseen dataset.\n",
    "\n",
    "Note that we aren't modifying the test or dev sets.  Only the training set is over-sampled.  Always pretend you have minimal control over your test set since it's coming from the real world.  Also in the real world, we are less interested in results in aggregate, since each new observation is something that we need a prediction for."
   ]
  },
  {
   "cell_type": "code",
   "execution_count": 242,
   "metadata": {},
   "outputs": [
    {
     "name": "stdout",
     "output_type": "stream",
     "text": [
      "              precision    recall  f1-score   support\n",
      "\n",
      "           0       1.00      0.55      0.71       258\n",
      "           1       0.20      1.00      0.34        30\n",
      "\n",
      "    accuracy                           0.59       288\n",
      "   macro avg       0.60      0.77      0.52       288\n",
      "weighted avg       0.92      0.59      0.67       288\n",
      "\n",
      "              precision    recall  f1-score   support\n",
      "\n",
      "           0       1.00      0.52      0.68       258\n",
      "           1       0.19      1.00      0.33        30\n",
      "\n",
      "    accuracy                           0.57       288\n",
      "   macro avg       0.60      0.76      0.50       288\n",
      "weighted avg       0.92      0.57      0.65       288\n",
      "\n",
      "              precision    recall  f1-score   support\n",
      "\n",
      "           0       1.00      0.46      0.63       258\n",
      "           1       0.18      1.00      0.30        30\n",
      "\n",
      "    accuracy                           0.52       288\n",
      "   macro avg       0.59      0.73      0.47       288\n",
      "weighted avg       0.91      0.52      0.60       288\n",
      "\n"
     ]
    }
   ],
   "source": [
    "for n in [.25, .5,1]:\n",
    "    needed_samples = int(n*len(np.where(train_y_imbalanced == 0)[0])) - len(np.where(train_y_imbalanced == 1)[0])\n",
    "    oversample_indices = np.random.choice(np.where(train_y_imbalanced == 1)[0], needed_samples)\n",
    "    train_x_oversampled = np.append(train_x_scaled, train_x_scaled[oversample_indices],axis=0)\n",
    "    gnb3 = naive_bayes.GaussianNB()\n",
    "    gnb3.fit(train_x_oversampled, np.append(train_y_imbalanced,[1] * needed_samples))\n",
    "    gnb3_predicted = gnb3.predict(dev_x_scaled)\n",
    "    print(metrics.classification_report(dev_y_imbalanced, gnb3_predicted))"
   ]
  },
  {
   "cell_type": "markdown",
   "metadata": {},
   "source": [
    "None of these over-sampling ratios helped."
   ]
  },
  {
   "cell_type": "markdown",
   "metadata": {},
   "source": [
    "#### Under-sampling"
   ]
  },
  {
   "cell_type": "markdown",
   "metadata": {},
   "source": [
    "This time we will randomly select a number of observations from the majority class (without replacement), such that we have the same number as the minority class."
   ]
  },
  {
   "cell_type": "code",
   "execution_count": 243,
   "metadata": {},
   "outputs": [
    {
     "name": "stdout",
     "output_type": "stream",
     "text": [
      "              precision    recall  f1-score   support\n",
      "\n",
      "           0       0.97      0.91      0.94       258\n",
      "           1       0.50      0.77      0.61        30\n",
      "\n",
      "    accuracy                           0.90       288\n",
      "   macro avg       0.74      0.84      0.77       288\n",
      "weighted avg       0.92      0.90      0.91       288\n",
      "\n"
     ]
    }
   ],
   "source": [
    "needed_samples = len(np.where(train_y_imbalanced == 1)[0])\n",
    "undersample_indices = np.append(np.where(train_y_imbalanced == 1)[0], np.random.choice(np.where(train_y_imbalanced == 0)[0], replace=False, size=needed_samples))\n",
    "train_x_undersampled = train_x_scaled[undersample_indices]\n",
    "\n",
    "gnb3 = naive_bayes.GaussianNB()\n",
    "gnb3.fit(train_x_undersampled, train_y_imbalanced[undersample_indices])\n",
    "gnb3_predicted = gnb3.predict(dev_x_scaled)\n",
    "print(metrics.classification_report(dev_y_imbalanced, gnb3_predicted))"
   ]
  },
  {
   "cell_type": "markdown",
   "metadata": {},
   "source": [
    "Success!"
   ]
  }
 ],
 "metadata": {
  "kernelspec": {
   "display_name": "Python 3",
   "language": "python",
   "name": "python3"
  },
  "language_info": {
   "codemirror_mode": {
    "name": "ipython",
    "version": 3
   },
   "file_extension": ".py",
   "mimetype": "text/x-python",
   "name": "python",
   "nbconvert_exporter": "python",
   "pygments_lexer": "ipython3",
   "version": "3.8.5"
  }
 },
 "nbformat": 4,
 "nbformat_minor": 4
}
