{
 "cells": [
  {
   "cell_type": "markdown",
   "metadata": {},
   "source": [
    "Nathan Mohapatra\n",
    "\n",
    "njmohapatra@ucdavis.edu"
   ]
  },
  {
   "cell_type": "markdown",
   "metadata": {},
   "source": [
    "# Activity-1:\n",
    "## Write your verification of rule (3) using the residual matrix (A) and discuss it on the discussion forum."
   ]
  },
  {
   "cell_type": "markdown",
   "metadata": {},
   "source": [
    "$3)\\ A^T *A=\\Sigma_i a^2_i$\n",
    "\n",
    "$A=\n",
    "\\begin{bmatrix}\n",
    "y^{(1)}-w^T x^{(1)}\\\\\n",
    "y^{(2)}-w^T x^{(2)}\\\\\n",
    "...\\\\\n",
    "y^{(m)}-w^T x^{(m)}\n",
    "\\end{bmatrix}\n",
    "=(Y-Xw)$\n",
    "\n",
    "$(Y-Xw)^T (Y-Xw)=\n",
    "\\begin{bmatrix}\n",
    "y^{(1)}-w^T x^{(1)} & y^{(2)}-w^T x^{(2)} & ... & y^{(m)}-w^T x^{(m)}\n",
    "\\end{bmatrix}\n",
    "\\begin{bmatrix}\n",
    "y^{(1)}-w^T x^{(1)}\\\\\n",
    "y^{(2)}-w^T x^{(2)}\\\\\n",
    "...\\\\\n",
    "y^{(m)}-w^T x^{(m)}\n",
    "\\end{bmatrix}\n",
    "=\\sum\\limits_{i=1}^m (y^{(i)}-w^T x^i)^2$\n",
    "\n",
    "$A^T *A=\\Sigma_i a^2_i$ \n",
    "$\\checkmark$"
   ]
  },
  {
   "cell_type": "markdown",
   "metadata": {},
   "source": [
    "# Activity-2:\n",
    "## Prove [OLS Solution to Minimize RSS for LR] mathematically."
   ]
  },
  {
   "cell_type": "markdown",
   "metadata": {},
   "source": [
    "$RSS=\n",
    "\\sum\\limits_{i=1}^m (y^{(i)}-w^T x^i)^2\n",
    "=(Y-Xw)^T (Y-Xw)$\n",
    "\n",
    "$\\frac{\\delta RSS}{\\delta w}=0$\n",
    "\n",
    "$\\nabla_w[(Y-Xw)^T (Y-Xw)]=0$\n",
    "\n",
    "$\\nabla_w(Y^T Y-2w^T X^T Y+w^T X^T Xw)=0$\n",
    "\n",
    "$-2X^T Y+2X^T Xw=0$\n",
    "\n",
    "$-2X^T(Y-Xw)=0$\n",
    "\n",
    "$2X^T Xw=2X^T Y$\n",
    "\n",
    "$w(X^T X)=X^T Y$\n",
    "\n",
    "$w=(X^T X)^{-1}X^T Y = \\frac{X^T Y}{X^T X}$\n",
    "$\\checkmark$"
   ]
  },
  {
   "cell_type": "markdown",
   "metadata": {},
   "source": [
    "# Activity-3:\n",
    "## Stochastic GD\n",
    "## Create the log table containing these columns and fill out the table for 1 epoch for the dataset provided in the example below. Write your Python code to generate the output."
   ]
  },
  {
   "cell_type": "code",
   "execution_count": 1,
   "metadata": {},
   "outputs": [
    {
     "name": "stdout",
     "output_type": "stream",
     "text": [
      "   x1  x2   y   y_hat     loss  y-y_hat     w1      w2      b\n",
      "0   4   1   2  -0.116     4.48   -2.116 -0.017  -0.048  0.000\n",
      "1   2   8 -14   3.179   295.12   17.179  0.829   0.164  0.212\n",
      "2   1   0   1  -4.113    26.14   -5.113 -2.606 -13.580 -1.506\n",
      "3   3   2  -1 -34.440  1118.24  -33.440 -2.095 -13.580 -0.995\n",
      "4   1   4  -7 -17.281   105.70  -10.281  7.937  -6.892  2.349\n",
      "5   6   7  -8  37.712  2089.58   45.712  8.965  -2.779  3.377\n"
     ]
    }
   ],
   "source": [
    "import pandas as pd\n",
    "\n",
    "# Initialize data\n",
    "X1 = [4,2,1,3,1,6]\n",
    "X2 = [1,8,0,2,4,7]\n",
    "Y = [2,-14,1,-1,-7,-8]\n",
    "\n",
    "# Lists for table\n",
    "y_hat_list = []\n",
    "loss_list = []\n",
    "error_list = []\n",
    "w1_list = []\n",
    "w2_list = []\n",
    "b_list = []\n",
    "\n",
    "# Initialize weights (one-time)\n",
    "w1 = -0.017\n",
    "w2 = -0.048\n",
    "b = 0\n",
    "\n",
    "# Iterate through 6 batches (batch size = 1)\n",
    "for i in range(6):\n",
    "    w1_list.append(round(w1, 3))\n",
    "    w2_list.append(round(w2, 3))\n",
    "    b_list.append(round(b, 3))\n",
    "    \n",
    "    # Feed batch data\n",
    "    x1 = X1[i]\n",
    "    x2 = X2[i]\n",
    "    y = Y[i]\n",
    "    \n",
    "    # Compute y_hat\n",
    "    y_hat = w1 * x1 + w2 * x2 + b\n",
    "    y_hat_list.append(round(y_hat, 3))\n",
    "    \n",
    "    # Compute loss\n",
    "    error = y_hat - y\n",
    "    error_list.append(round(error, 3))\n",
    "    loss = error ** 2\n",
    "    loss_list.append(round(loss, 2))\n",
    "    \n",
    "    # Backpropagation\n",
    "    # Compute partial differentials\n",
    "    L_y_hat = 2 * error\n",
    "    y_hat_b = 1\n",
    "    y_hat_w1 = x1\n",
    "    y_hat_w2 = x2\n",
    "    \n",
    "    # Update weights (learning rate = 0.05)\n",
    "    b = b - 0.05 * (L_y_hat * y_hat_b)\n",
    "    w1 = w1 - 0.05 * (L_y_hat * y_hat_w1)\n",
    "    w2 = w2 - 0.05 * (L_y_hat * y_hat_w2)\n",
    "\n",
    "# Create data and output table\n",
    "d = {\"x1\" : X1, \"x2\" : X2, \"y\" : Y, \"y_hat\" : y_hat_list, \"loss\" : loss_list,\n",
    "        \"y-y_hat\" : error_list, \"w1\" : w1_list, \"w2\" : w2_list, \"b\" : b_list}\n",
    "df = pd.DataFrame(d)\n",
    "print(df)"
   ]
  },
  {
   "cell_type": "markdown",
   "metadata": {},
   "source": [
    "## Next, visualize the loss for epoch 1 using a line chart. For this task, you can use matplotlib library."
   ]
  },
  {
   "cell_type": "code",
   "execution_count": 2,
   "metadata": {},
   "outputs": [
    {
     "data": {
      "text/plain": [
       "[<matplotlib.lines.Line2D at 0x7fa5daf45950>]"
      ]
     },
     "execution_count": 2,
     "metadata": {},
     "output_type": "execute_result"
    },
    {
     "data": {
      "image/png": "[encoded data removed]",
      "text/plain": [
       "<Figure size 360x360 with 1 Axes>"
      ]
     },
     "metadata": {
      "needs_background": "light"
     },
     "output_type": "display_data"
    }
   ],
   "source": [
    "import matplotlib.pyplot as plt\n",
    "import numpy as np\n",
    "import pandas as pd\n",
    "import seaborn as sb\n",
    "from sklearn.linear_model import LinearRegression\n",
    "\n",
    "# Create data\n",
    "batch_list = [1,2,3,4,5,6]\n",
    "d = {\"batch\" : batch_list, \"loss\" : loss_list}\n",
    "df = pd.DataFrame(d)\n",
    "\n",
    "# Calculate line of best fit\n",
    "x = df.iloc[:,0].to_numpy().reshape(-1, 1)\n",
    "y = df.iloc[:,1].to_numpy()\n",
    "reg = LinearRegression().fit(x, y)\n",
    "\n",
    "# Plot line of best fit\n",
    "sb.relplot(x=\"batch\", y=\"loss\", data=df)\n",
    "xlims = [np.amin(x), np.amax(x)]\n",
    "plt.plot(xlims, reg.intercept_ + reg.coef_ * xlims, linewidth=2)"
   ]
  }
 ],
 "metadata": {
  "kernelspec": {
   "display_name": "Python 3",
   "language": "python",
   "name": "python3"
  },
  "language_info": {
   "codemirror_mode": {
    "name": "ipython",
    "version": 3
   },
   "file_extension": ".py",
   "mimetype": "text/x-python",
   "name": "python",
   "nbconvert_exporter": "python",
   "pygments_lexer": "ipython3",
   "version": "3.7.6"
  }
 },
 "nbformat": 4,
 "nbformat_minor": 4
}
