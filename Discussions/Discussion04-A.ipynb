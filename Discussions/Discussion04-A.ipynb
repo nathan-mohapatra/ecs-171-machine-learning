{
 "cells": [
  {
   "cell_type": "markdown",
   "metadata": {},
   "source": [
    "# Learning boolean functions with neural networks"
   ]
  },
  {
   "cell_type": "markdown",
   "metadata": {},
   "source": [
    "## AND"
   ]
  },
  {
   "cell_type": "code",
   "execution_count": 1,
   "metadata": {},
   "outputs": [
    {
     "name": "stdout",
     "output_type": "stream",
     "text": [
      "[0 0 0 1]\n"
     ]
    }
   ],
   "source": [
    "from sklearn.neural_network import MLPClassifier\n",
    "X = [[0, 0], [0, 1], [0, 0], [1, 0], [1, 1], [0, 1], [1, 0], [1, 1], [1, 0], [0, 1], [0, 0], [1, 1], [0, 0]]\n",
    "y_AND = [0, 0, 0, 0, 1, 0, 0, 1, 0, 0, 0, 1, 0]\n",
    "AND_nn = MLPClassifier(solver='lbfgs', alpha=1e-5,activation='logistic',hidden_layer_sizes=(), random_state=1)\n",
    "AND_nn.fit(X, y_AND)\n",
    "print(AND_nn.predict([[0, 0], [1, 0], [0, 1], [1, 1]]))"
   ]
  },
  {
   "cell_type": "markdown",
   "metadata": {},
   "source": [
    "## NOR"
   ]
  },
  {
   "cell_type": "code",
   "execution_count": 2,
   "metadata": {},
   "outputs": [
    {
     "name": "stdout",
     "output_type": "stream",
     "text": [
      "[1 0 0 0]\n"
     ]
    }
   ],
   "source": [
    "y_NOR = [1, 0, 0, 1, 0, 0, 0, 0, 0, 0, 1, 0, 1]\n",
    "NOR_nn = MLPClassifier(solver='lbfgs', alpha=1e-5,activation='logistic',hidden_layer_sizes=(), random_state=1)\n",
    "NOR_nn.fit(X, y_NOR)\n",
    "print(NOR_nn.predict([[0, 0], [1, 0], [0, 1], [1, 1]]))"
   ]
  },
  {
   "cell_type": "markdown",
   "metadata": {},
   "source": [
    "## XOR attempt 1"
   ]
  },
  {
   "cell_type": "code",
   "execution_count": 3,
   "metadata": {},
   "outputs": [
    {
     "name": "stdout",
     "output_type": "stream",
     "text": [
      "[0 0 0 1]\n"
     ]
    }
   ],
   "source": [
    "y_XOR = [0, 1, 0, 1, 0, 1, 1, 0, 1, 1, 0, 0, 0]\n",
    "XOR_nn = MLPClassifier(solver='lbfgs', activation = 'logistic',  alpha=1e-5,hidden_layer_sizes=(), random_state=1)\n",
    "XOR_nn.fit(X, y_XOR)\n",
    "print(XOR_nn.predict([[0, 0], [1, 0], [0, 1], [1, 1]]))"
   ]
  },
  {
   "cell_type": "markdown",
   "metadata": {},
   "source": [
    "## XOR with a hidden layer"
   ]
  },
  {
   "cell_type": "code",
   "execution_count": 4,
   "metadata": {},
   "outputs": [
    {
     "name": "stdout",
     "output_type": "stream",
     "text": [
      "[0 1 1 0]\n"
     ]
    }
   ],
   "source": [
    "XOR2_nn = MLPClassifier(solver='lbfgs', activation = 'logistic',  alpha=1e-5,hidden_layer_sizes=(2), random_state=1)\n",
    "XOR2_nn.fit(X, y_XOR)\n",
    "print(XOR2_nn.predict([[0, 0], [1, 0], [0, 1], [1, 1]]))\n"
   ]
  },
  {
   "cell_type": "markdown",
   "metadata": {},
   "source": [
    "## XOR with a kernel"
   ]
  },
  {
   "cell_type": "code",
   "execution_count": 5,
   "metadata": {},
   "outputs": [
    {
     "name": "stdout",
     "output_type": "stream",
     "text": [
      "[0 1 1 0]\n"
     ]
    }
   ],
   "source": [
    "X = [[0, 0, 0], [0, 1, 0], [0, 0, 0], [1, 0, 0], [1, 1, 1], [0, 1, 0], [1, 0, 0], [1, 1, 1], [1, 0, 0], [0, 1, 0], [0, 0, 0], [1, 1, 1], [0, 0, 0]]\n",
    "XOR_nn = MLPClassifier(solver='lbfgs', activation = 'logistic',  alpha=1e-5,hidden_layer_sizes=(), random_state=1)\n",
    "XOR_nn.fit(X, y_XOR)\n",
    "print(XOR_nn.predict([[0, 0, 0], [1, 0, 0], [0, 1, 0], [1, 1, 1]]))"
   ]
  },
  {
   "cell_type": "code",
   "execution_count": null,
   "metadata": {},
   "outputs": [],
   "source": []
  }
 ],
 "metadata": {
  "kernelspec": {
   "display_name": "Python 3",
   "language": "python",
   "name": "python3"
  },
  "language_info": {
   "codemirror_mode": {
    "name": "ipython",
    "version": 3
   },
   "file_extension": ".py",
   "mimetype": "text/x-python",
   "name": "python",
   "nbconvert_exporter": "python",
   "pygments_lexer": "ipython3",
   "version": "3.7.6"
  }
 },
 "nbformat": 4,
 "nbformat_minor": 4
}
