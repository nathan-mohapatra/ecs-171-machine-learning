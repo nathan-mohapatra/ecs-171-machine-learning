{
 "cells": [
  {
   "cell_type": "markdown",
   "metadata": {},
   "source": [
    "Nathan Mohapatra\n",
    "\n",
    "njmohapatra@ucdavis.edu"
   ]
  },
  {
   "cell_type": "code",
   "execution_count": 1,
   "metadata": {},
   "outputs": [],
   "source": [
    "# libraries\n",
    "import math\n",
    "import numpy as np\n",
    "import pandas as pd\n",
    "from sklearn.linear_model import LinearRegression, LogisticRegression\n",
    "from sklearn.metrics import precision_score, recall_score\n",
    "from sklearn.model_selection import train_test_split\n",
    "from sklearn.preprocessing import MinMaxScaler, PolynomialFeatures"
   ]
  },
  {
   "cell_type": "markdown",
   "metadata": {},
   "source": [
    "#### The following code is from 'Homework 1 Solution' Jupyter Notebook"
   ]
  },
  {
   "cell_type": "code",
   "execution_count": 2,
   "metadata": {},
   "outputs": [],
   "source": [
    "# read the saved dataset into pandas dataframe\n",
    "df = pd.read_csv('./../datasets/auto-mpg.data', delim_whitespace=True, names=['mpg', 'cylinders', 'displacement', 'horsepower', 'weight', 'acceleration', 'model_year', 'origin', 'car_name'])\n",
    "\n",
    "# drop rows with '?' in the horsepower column\n",
    "df.drop(df[df['horsepower'] == '?'].index, inplace=True)\n",
    "\n",
    "# change horsepower type\n",
    "df['horsepower'] = df['horsepower'].astype('float64')"
   ]
  },
  {
   "cell_type": "code",
   "execution_count": 3,
   "metadata": {},
   "outputs": [],
   "source": [
    "class MyLinearRegression:\n",
    "    # constructor to initialize the coefficient array\n",
    "    def __init__(self):\n",
    "        self.b = []\n",
    "        \n",
    "    def fit(self, x, y, order):\n",
    "        N = len(x)\n",
    "        if order == 0:\n",
    "            X = np.c_[np.ones(N)]\n",
    "        elif order == 1:\n",
    "            X = np.c_[np.ones(N), x]\n",
    "        elif order == 2:\n",
    "            X = np.c_[np.ones(N), x, np.square(x)]\n",
    "        else:\n",
    "            X = np.c_[np.ones(N), x, np.square(x), np.power(x, 3)]\n",
    "        self.b = X.T@y@np.linalg.inv(X.T@X)\n",
    "        \n",
    "    def predict(self, x):\n",
    "        prediction = []\n",
    "        for i in range(len(x)):\n",
    "            pred = self.b[0]\n",
    "            for j in range(1, len(self.b)):\n",
    "                pred += self.b[j] * np.power(x[i], j)\n",
    "            prediction.append(pred)\n",
    "        return prediction\n",
    "    \n",
    "    def mse(self, y, prediction):\n",
    "        s = 0\n",
    "        for i in range(len(y)):\n",
    "            s += (y[i] - prediction[i]) ** 2\n",
    "        score = s / len(y)\n",
    "        return score"
   ]
  },
  {
   "cell_type": "markdown",
   "metadata": {},
   "source": [
    "### 1: [20pt]\n",
    "Allowed libraries: pandas, numpy\n",
    "\n",
    "(a) Split the dataset 70:30 for training and testing respectively."
   ]
  },
  {
   "cell_type": "code",
   "execution_count": 4,
   "metadata": {},
   "outputs": [
    {
     "data": {
      "text/plain": [
       "275"
      ]
     },
     "execution_count": 4,
     "metadata": {},
     "output_type": "execute_result"
    }
   ],
   "source": [
    "# 70% of rows\n",
    "split = math.ceil(df.shape[0] * 0.7)\n",
    "split"
   ]
  },
  {
   "cell_type": "code",
   "execution_count": 5,
   "metadata": {},
   "outputs": [],
   "source": [
    "# split dataset 70:30 for training and testing\n",
    "df = df.drop(columns='car_name')\n",
    "X, Y = df.loc[:, df.columns != 'weight'], df['weight']\n",
    "X_train, X_test, Y_train, Y_test = X[:split], X[split:], Y[:split], Y[split:] # not randomized, unfortunately\n",
    "\n",
    "y_train = np.array(Y_train)\n",
    "y_test = np.array(Y_test)"
   ]
  },
  {
   "cell_type": "markdown",
   "metadata": {},
   "source": [
    "(b) Use your solution to regress weight (dependent variable) on each of the 7 non-car_name features (independent variables). Do this for the 0th to 3rd order of the independent variables."
   ]
  },
  {
   "cell_type": "code",
   "execution_count": 6,
   "metadata": {},
   "outputs": [],
   "source": [
    "# linear regression (can accommodate polynomials)\n",
    "lin = MyLinearRegression()"
   ]
  },
  {
   "cell_type": "markdown",
   "metadata": {},
   "source": [
    "#### Independent variable: 'mpg'"
   ]
  },
  {
   "cell_type": "code",
   "execution_count": 7,
   "metadata": {},
   "outputs": [],
   "source": [
    "x_train = np.array(X_train['mpg'])\n",
    "x_test = np.array(X_test['mpg'])\n",
    "\n",
    "# order = 0\n",
    "lin.fit(x_train, y_train, order=0)\n",
    "mpg0_pred = lin.predict(x_test)\n",
    "\n",
    "# order = 1\n",
    "lin.fit(x_train, y_train, order=1)\n",
    "mpg1_pred = lin.predict(x_test)\n",
    "\n",
    "# order = 2\n",
    "lin.fit(x_train, y_train, order=2)\n",
    "mpg2_pred = lin.predict(x_test)\n",
    "\n",
    "# order = 3\n",
    "lin.fit(x_train, y_train, order=3)\n",
    "mpg3_pred = lin.predict(x_test)"
   ]
  },
  {
   "cell_type": "markdown",
   "metadata": {},
   "source": [
    "#### Independent variable: 'cylinders'"
   ]
  },
  {
   "cell_type": "code",
   "execution_count": 8,
   "metadata": {},
   "outputs": [],
   "source": [
    "x_train = np.array(X_train['cylinders'])\n",
    "x_test = np.array(X_test['cylinders'])\n",
    "\n",
    "# order = 0\n",
    "lin.fit(x_train, y_train, order=0)\n",
    "cylinders0_pred = lin.predict(x_test)\n",
    "\n",
    "# order = 1\n",
    "lin.fit(x_train, y_train, order=1)\n",
    "cylinders1_pred = lin.predict(x_test)\n",
    "\n",
    "# order = 2\n",
    "lin.fit(x_train, y_train, order=2)\n",
    "cylinders2_pred = lin.predict(x_test)\n",
    "\n",
    "# order = 3\n",
    "lin.fit(x_train, y_train, order=3)\n",
    "cylinders3_pred = lin.predict(x_test)"
   ]
  },
  {
   "cell_type": "markdown",
   "metadata": {},
   "source": [
    "#### Independent variable: 'displacement'"
   ]
  },
  {
   "cell_type": "code",
   "execution_count": 9,
   "metadata": {},
   "outputs": [],
   "source": [
    "x_train = np.array(X_train['displacement'])\n",
    "x_test = np.array(X_test['displacement'])\n",
    "\n",
    "# order = 0\n",
    "lin.fit(x_train, y_train, order=0)\n",
    "displacement0_pred = lin.predict(x_test)\n",
    "\n",
    "# order = 1\n",
    "lin.fit(x_train, y_train, order=1)\n",
    "displacement1_pred = lin.predict(x_test)\n",
    "\n",
    "# order = 2\n",
    "lin.fit(x_train, y_train, order=2)\n",
    "displacement2_pred = lin.predict(x_test)\n",
    "\n",
    "# order = 3\n",
    "lin.fit(x_train, y_train, order=3)\n",
    "displacement3_pred = lin.predict(x_test)"
   ]
  },
  {
   "cell_type": "markdown",
   "metadata": {},
   "source": [
    "#### Independent variable: 'horsepower'"
   ]
  },
  {
   "cell_type": "code",
   "execution_count": 10,
   "metadata": {},
   "outputs": [],
   "source": [
    "x_train = np.array(X_train['horsepower'])\n",
    "x_test = np.array(X_test['horsepower'])\n",
    "\n",
    "# order = 0\n",
    "lin.fit(x_train, y_train, order=0)\n",
    "horsepower0_pred = lin.predict(x_test)\n",
    "\n",
    "# order = 1\n",
    "lin.fit(x_train, y_train, order=1)\n",
    "horsepower1_pred = lin.predict(x_test)\n",
    "\n",
    "# order = 2\n",
    "lin.fit(x_train, y_train, order=2)\n",
    "horsepower2_pred = lin.predict(x_test)\n",
    "\n",
    "# order = 3\n",
    "lin.fit(x_train, y_train, order=3)\n",
    "horsepower3_pred = lin.predict(x_test)"
   ]
  },
  {
   "cell_type": "markdown",
   "metadata": {},
   "source": [
    "#### Independent variable: 'acceleration'"
   ]
  },
  {
   "cell_type": "code",
   "execution_count": 11,
   "metadata": {},
   "outputs": [],
   "source": [
    "x_train = np.array(X_train['acceleration'])\n",
    "x_test = np.array(X_test['acceleration'])\n",
    "\n",
    "# order = 0\n",
    "lin.fit(x_train, y_train, order=0)\n",
    "acceleration0_pred = lin.predict(x_test)\n",
    "\n",
    "# order = 1\n",
    "lin.fit(x_train, y_train, order=1)\n",
    "acceleration1_pred = lin.predict(x_test)\n",
    "\n",
    "# order = 2\n",
    "lin.fit(x_train, y_train, order=2)\n",
    "acceleration2_pred = lin.predict(x_test)\n",
    "\n",
    "# order = 3\n",
    "lin.fit(x_train, y_train, order=3)\n",
    "acceleration3_pred = lin.predict(x_test)"
   ]
  },
  {
   "cell_type": "markdown",
   "metadata": {},
   "source": [
    "#### Independent variable: 'model_year'"
   ]
  },
  {
   "cell_type": "code",
   "execution_count": 12,
   "metadata": {},
   "outputs": [],
   "source": [
    "x_train = np.array(X_train['model_year'])\n",
    "x_test = np.array(X_test['model_year'])\n",
    "\n",
    "# order = 0\n",
    "lin.fit(x_train, y_train, order=0)\n",
    "model_year0_pred = lin.predict(x_test)\n",
    "\n",
    "# order = 1\n",
    "lin.fit(x_train, y_train, order=1)\n",
    "model_year1_pred = lin.predict(x_test)\n",
    "\n",
    "# order = 2\n",
    "lin.fit(x_train, y_train, order=2)\n",
    "model_year2_pred = lin.predict(x_test)\n",
    "\n",
    "# order = 3\n",
    "lin.fit(x_train, y_train, order=3)\n",
    "model_year3_pred = lin.predict(x_test)"
   ]
  },
  {
   "cell_type": "markdown",
   "metadata": {},
   "source": [
    "#### Independent variable: 'origin'"
   ]
  },
  {
   "cell_type": "code",
   "execution_count": 13,
   "metadata": {},
   "outputs": [],
   "source": [
    "x_train = np.array(X_train['origin'])\n",
    "x_test = np.array(X_test['origin'])\n",
    "\n",
    "# order = 0\n",
    "lin.fit(x_train, y_train, order=0)\n",
    "origin0_pred = lin.predict(x_test)\n",
    "\n",
    "# order = 1\n",
    "lin.fit(x_train, y_train, order=1)\n",
    "origin1_pred = lin.predict(x_test)\n",
    "\n",
    "# order = 2\n",
    "lin.fit(x_train, y_train, order=2)\n",
    "origin2_pred = lin.predict(x_test)\n",
    "\n",
    "# order = 3\n",
    "lin.fit(x_train, y_train, order=3)\n",
    "origin3_pred = lin.predict(x_test)"
   ]
  },
  {
   "cell_type": "markdown",
   "metadata": {},
   "source": [
    "(c) Calculate the training and testing mean squared errors for each variable and order individually."
   ]
  },
  {
   "cell_type": "markdown",
   "metadata": {},
   "source": [
    "#### Independent variable: 'mpg'"
   ]
  },
  {
   "cell_type": "code",
   "execution_count": 14,
   "metadata": {},
   "outputs": [
    {
     "data": {
      "text/plain": [
       "613790.4446054957"
      ]
     },
     "execution_count": 14,
     "metadata": {},
     "output_type": "execute_result"
    }
   ],
   "source": [
    "# order = 0\n",
    "mpg0_mse = lin.mse(y_test, mpg0_pred)\n",
    "mpg0_mse"
   ]
  },
  {
   "cell_type": "code",
   "execution_count": 15,
   "metadata": {},
   "outputs": [
    {
     "data": {
      "text/plain": [
       "734656.8636078906"
      ]
     },
     "execution_count": 15,
     "metadata": {},
     "output_type": "execute_result"
    }
   ],
   "source": [
    "# order = 1\n",
    "mpg1_mse = lin.mse(y_test, mpg1_pred)\n",
    "mpg1_mse"
   ]
  },
  {
   "cell_type": "code",
   "execution_count": 16,
   "metadata": {},
   "outputs": [
    {
     "data": {
      "text/plain": [
       "274161.58487617946"
      ]
     },
     "execution_count": 16,
     "metadata": {},
     "output_type": "execute_result"
    }
   ],
   "source": [
    "# order = 2\n",
    "mpg2_mse = lin.mse(y_test, mpg2_pred)\n",
    "mpg2_mse"
   ]
  },
  {
   "cell_type": "code",
   "execution_count": 17,
   "metadata": {},
   "outputs": [
    {
     "data": {
      "text/plain": [
       "286871.64900611626"
      ]
     },
     "execution_count": 17,
     "metadata": {},
     "output_type": "execute_result"
    }
   ],
   "source": [
    "# order = 3\n",
    "mpg3_mse = lin.mse(y_test, mpg3_pred)\n",
    "mpg3_mse"
   ]
  },
  {
   "cell_type": "markdown",
   "metadata": {},
   "source": [
    "#### Independent variable: 'cylinders'"
   ]
  },
  {
   "cell_type": "code",
   "execution_count": 18,
   "metadata": {},
   "outputs": [
    {
     "data": {
      "text/plain": [
       "613790.4446054957"
      ]
     },
     "execution_count": 18,
     "metadata": {},
     "output_type": "execute_result"
    }
   ],
   "source": [
    "# order = 0\n",
    "cylinders0_mse = lin.mse(y_test, cylinders0_pred)\n",
    "cylinders0_mse"
   ]
  },
  {
   "cell_type": "code",
   "execution_count": 19,
   "metadata": {},
   "outputs": [
    {
     "data": {
      "text/plain": [
       "127120.73311235513"
      ]
     },
     "execution_count": 19,
     "metadata": {},
     "output_type": "execute_result"
    }
   ],
   "source": [
    "# order = 1\n",
    "cylinders1_mse = lin.mse(y_test, cylinders1_pred)\n",
    "cylinders1_mse"
   ]
  },
  {
   "cell_type": "code",
   "execution_count": 20,
   "metadata": {},
   "outputs": [
    {
     "data": {
      "text/plain": [
       "126506.97402670587"
      ]
     },
     "execution_count": 20,
     "metadata": {},
     "output_type": "execute_result"
    }
   ],
   "source": [
    "# order = 2\n",
    "cylinders2_mse = lin.mse(y_test, cylinders2_pred)\n",
    "cylinders2_mse"
   ]
  },
  {
   "cell_type": "code",
   "execution_count": 21,
   "metadata": {},
   "outputs": [
    {
     "data": {
      "text/plain": [
       "128616.0198736901"
      ]
     },
     "execution_count": 21,
     "metadata": {},
     "output_type": "execute_result"
    }
   ],
   "source": [
    "# order = 3\n",
    "cylinders3_mse = lin.mse(y_test, cylinders3_pred)\n",
    "cylinders3_mse"
   ]
  },
  {
   "cell_type": "markdown",
   "metadata": {},
   "source": [
    "#### Independent variable: 'displacement'"
   ]
  },
  {
   "cell_type": "code",
   "execution_count": 22,
   "metadata": {},
   "outputs": [
    {
     "data": {
      "text/plain": [
       "613790.4446054957"
      ]
     },
     "execution_count": 22,
     "metadata": {},
     "output_type": "execute_result"
    }
   ],
   "source": [
    "# order = 0\n",
    "displacement0_mse = lin.mse(y_test, displacement0_pred)\n",
    "displacement0_mse"
   ]
  },
  {
   "cell_type": "code",
   "execution_count": 23,
   "metadata": {},
   "outputs": [
    {
     "data": {
      "text/plain": [
       "59658.280011189025"
      ]
     },
     "execution_count": 23,
     "metadata": {},
     "output_type": "execute_result"
    }
   ],
   "source": [
    "# order = 1\n",
    "displacement1_mse = lin.mse(y_test, displacement1_pred)\n",
    "displacement1_mse"
   ]
  },
  {
   "cell_type": "code",
   "execution_count": 24,
   "metadata": {},
   "outputs": [
    {
     "data": {
      "text/plain": [
       "52392.11134835767"
      ]
     },
     "execution_count": 24,
     "metadata": {},
     "output_type": "execute_result"
    }
   ],
   "source": [
    "# order = 2\n",
    "displacement2_mse = lin.mse(y_test, displacement2_pred)\n",
    "displacement2_mse"
   ]
  },
  {
   "cell_type": "code",
   "execution_count": 25,
   "metadata": {},
   "outputs": [
    {
     "data": {
      "text/plain": [
       "55913.48985929711"
      ]
     },
     "execution_count": 25,
     "metadata": {},
     "output_type": "execute_result"
    }
   ],
   "source": [
    "# order = 3\n",
    "displacement3_mse = lin.mse(y_test, displacement3_pred)\n",
    "displacement3_mse"
   ]
  },
  {
   "cell_type": "markdown",
   "metadata": {},
   "source": [
    "#### Independent variable: 'horsepower'"
   ]
  },
  {
   "cell_type": "code",
   "execution_count": 26,
   "metadata": {},
   "outputs": [
    {
     "data": {
      "text/plain": [
       "613790.4446054957"
      ]
     },
     "execution_count": 26,
     "metadata": {},
     "output_type": "execute_result"
    }
   ],
   "source": [
    "# order = 0\n",
    "horsepower0_mse = lin.mse(y_test, horsepower0_pred)\n",
    "horsepower0_mse"
   ]
  },
  {
   "cell_type": "code",
   "execution_count": 27,
   "metadata": {},
   "outputs": [
    {
     "data": {
      "text/plain": [
       "125798.44305056163"
      ]
     },
     "execution_count": 27,
     "metadata": {},
     "output_type": "execute_result"
    }
   ],
   "source": [
    "# order = 1\n",
    "horsepower1_mse = lin.mse(y_test, horsepower1_pred)\n",
    "horsepower1_mse"
   ]
  },
  {
   "cell_type": "code",
   "execution_count": 28,
   "metadata": {},
   "outputs": [
    {
     "data": {
      "text/plain": [
       "137095.7791460548"
      ]
     },
     "execution_count": 28,
     "metadata": {},
     "output_type": "execute_result"
    }
   ],
   "source": [
    "# order = 2\n",
    "horsepower2_mse = lin.mse(y_test, horsepower2_pred)\n",
    "horsepower2_mse"
   ]
  },
  {
   "cell_type": "code",
   "execution_count": 29,
   "metadata": {},
   "outputs": [
    {
     "data": {
      "text/plain": [
       "129514.88228199109"
      ]
     },
     "execution_count": 29,
     "metadata": {},
     "output_type": "execute_result"
    }
   ],
   "source": [
    "# order = 3\n",
    "horsepower3_mse = lin.mse(y_test, horsepower3_pred)\n",
    "horsepower3_mse"
   ]
  },
  {
   "cell_type": "markdown",
   "metadata": {},
   "source": [
    "#### Independent variable: 'acceleration'"
   ]
  },
  {
   "cell_type": "code",
   "execution_count": 30,
   "metadata": {},
   "outputs": [
    {
     "data": {
      "text/plain": [
       "613790.4446054957"
      ]
     },
     "execution_count": 30,
     "metadata": {},
     "output_type": "execute_result"
    }
   ],
   "source": [
    "# order = 0\n",
    "acceleration0_mse = lin.mse(y_test, acceleration0_pred)\n",
    "acceleration0_mse"
   ]
  },
  {
   "cell_type": "code",
   "execution_count": 31,
   "metadata": {},
   "outputs": [
    {
     "data": {
      "text/plain": [
       "645838.9184505466"
      ]
     },
     "execution_count": 31,
     "metadata": {},
     "output_type": "execute_result"
    }
   ],
   "source": [
    "# order = 1\n",
    "acceleration1_mse = lin.mse(y_test, acceleration1_pred)\n",
    "acceleration1_mse"
   ]
  },
  {
   "cell_type": "code",
   "execution_count": 32,
   "metadata": {},
   "outputs": [
    {
     "data": {
      "text/plain": [
       "554187.8277934407"
      ]
     },
     "execution_count": 32,
     "metadata": {},
     "output_type": "execute_result"
    }
   ],
   "source": [
    "# order = 2\n",
    "acceleration2_mse = lin.mse(y_test, acceleration2_pred)\n",
    "acceleration2_mse"
   ]
  },
  {
   "cell_type": "code",
   "execution_count": 33,
   "metadata": {},
   "outputs": [
    {
     "data": {
      "text/plain": [
       "585942.4550689057"
      ]
     },
     "execution_count": 33,
     "metadata": {},
     "output_type": "execute_result"
    }
   ],
   "source": [
    "# order = 3\n",
    "acceleration3_mse = lin.mse(y_test, acceleration3_pred)\n",
    "acceleration3_mse"
   ]
  },
  {
   "cell_type": "markdown",
   "metadata": {},
   "source": [
    "#### Independent variable: 'model_year'"
   ]
  },
  {
   "cell_type": "code",
   "execution_count": 34,
   "metadata": {},
   "outputs": [
    {
     "data": {
      "text/plain": [
       "613790.4446054957"
      ]
     },
     "execution_count": 34,
     "metadata": {},
     "output_type": "execute_result"
    }
   ],
   "source": [
    "# order = 0\n",
    "model_year0_mse = lin.mse(y_test, model_year0_pred)\n",
    "model_year0_mse"
   ]
  },
  {
   "cell_type": "code",
   "execution_count": 35,
   "metadata": {},
   "outputs": [
    {
     "data": {
      "text/plain": [
       "380888.84747130045"
      ]
     },
     "execution_count": 35,
     "metadata": {},
     "output_type": "execute_result"
    }
   ],
   "source": [
    "# order = 1\n",
    "model_year1_mse = lin.mse(y_test, model_year1_pred)\n",
    "model_year1_mse"
   ]
  },
  {
   "cell_type": "code",
   "execution_count": 36,
   "metadata": {},
   "outputs": [
    {
     "data": {
      "text/plain": [
       "319216.84929792926"
      ]
     },
     "execution_count": 36,
     "metadata": {},
     "output_type": "execute_result"
    }
   ],
   "source": [
    "# order = 2\n",
    "model_year2_mse = lin.mse(y_test, model_year2_pred)\n",
    "model_year2_mse"
   ]
  },
  {
   "cell_type": "code",
   "execution_count": 37,
   "metadata": {},
   "outputs": [
    {
     "data": {
      "text/plain": [
       "369320.4590941248"
      ]
     },
     "execution_count": 37,
     "metadata": {},
     "output_type": "execute_result"
    }
   ],
   "source": [
    "# order = 3\n",
    "model_year3_mse = lin.mse(y_test, model_year3_pred)\n",
    "model_year3_mse"
   ]
  },
  {
   "cell_type": "markdown",
   "metadata": {},
   "source": [
    "#### Independent variable: 'origin'"
   ]
  },
  {
   "cell_type": "code",
   "execution_count": 38,
   "metadata": {},
   "outputs": [
    {
     "data": {
      "text/plain": [
       "613790.4446054957"
      ]
     },
     "execution_count": 38,
     "metadata": {},
     "output_type": "execute_result"
    }
   ],
   "source": [
    "# order = 0\n",
    "origin0_mse = lin.mse(y_test, origin0_pred)\n",
    "origin0_mse"
   ]
  },
  {
   "cell_type": "code",
   "execution_count": 39,
   "metadata": {},
   "outputs": [
    {
     "data": {
      "text/plain": [
       "480120.51787193166"
      ]
     },
     "execution_count": 39,
     "metadata": {},
     "output_type": "execute_result"
    }
   ],
   "source": [
    "# order = 1\n",
    "origin1_mse = lin.mse(y_test, origin1_pred)\n",
    "origin1_mse"
   ]
  },
  {
   "cell_type": "code",
   "execution_count": 40,
   "metadata": {},
   "outputs": [
    {
     "data": {
      "text/plain": [
       "492719.4058872964"
      ]
     },
     "execution_count": 40,
     "metadata": {},
     "output_type": "execute_result"
    }
   ],
   "source": [
    "# order = 2\n",
    "origin2_mse = lin.mse(y_test, origin2_pred)\n",
    "origin2_mse"
   ]
  },
  {
   "cell_type": "code",
   "execution_count": 41,
   "metadata": {},
   "outputs": [
    {
     "data": {
      "text/plain": [
       "547744649.169601"
      ]
     },
     "execution_count": 41,
     "metadata": {},
     "output_type": "execute_result"
    }
   ],
   "source": [
    "# order = 3\n",
    "origin3_mse = lin.mse(y_test, origin3_pred)\n",
    "origin3_mse"
   ]
  },
  {
   "cell_type": "markdown",
   "metadata": {},
   "source": [
    "(d) Plot the lines and data for the testing set, one plot per variable (so 4 lines in each plot, 7 plots total). Which polynomial order performs the best in the test set?"
   ]
  },
  {
   "cell_type": "code",
   "execution_count": 42,
   "metadata": {},
   "outputs": [],
   "source": [
    "# function to plot lines and data for testing set\n",
    "def my_plot(var):\n",
    "    # scatterplot : var predicts 'weight'\n",
    "    ax = df.plot.scatter(x=var, y='weight', title=f'{var} plot')\n",
    "\n",
    "    # x-values of lines\n",
    "    x = np.array(df[var])\n",
    "    fx = np.linspace(math.floor(x.min()), math.ceil(x.max()), math.ceil(x.max()) - math.floor(x.min()))\n",
    "\n",
    "    x_train = np.array(X_train[var])\n",
    "    \n",
    "    # order = 0\n",
    "    lin.fit(x_train, y_train, order=0)\n",
    "    # y-values of line\n",
    "    fy = [lin.b[0]] * len(fx)\n",
    "    # plot line against scatterplot\n",
    "    ax.plot(fx, fy, 'red')\n",
    "\n",
    "    # order = 1\n",
    "    lin.fit(x_train, y_train, order=1)\n",
    "    # y-values of line\n",
    "    fy = lin.b[0] + lin.b[1] * fx\n",
    "    # plot line against scatterplot\n",
    "    ax.plot(fx, fy, 'orange')\n",
    "\n",
    "    # order = 2\n",
    "    lin.fit(x_train, y_train, order=2)\n",
    "    # y-values of line\n",
    "    fy = lin.b[0] + lin.b[1] * fx + lin.b[2] * fx ** 2\n",
    "    # plot line against scatterplot\n",
    "    ax.plot(fx, fy, 'yellow')\n",
    "\n",
    "    # order = 3\n",
    "    lin.fit(x_train, y_train, order=3)\n",
    "    # y-values of line\n",
    "    fy = lin.b[0] + lin.b[1] * fx + lin.b[2] * fx ** 2 + lin.b[3] * fx ** 3\n",
    "    # plot line against scatterplot\n",
    "    ax.plot(fx, fy, 'green')"
   ]
  },
  {
   "cell_type": "markdown",
   "metadata": {},
   "source": [
    "#### Independent variable: 'mpg'"
   ]
  },
  {
   "cell_type": "code",
   "execution_count": 43,
   "metadata": {},
   "outputs": [
    {
     "data": {
      "image/png": "[encoded data removed]",
      "text/plain": [
       "<Figure size 432x288 with 1 Axes>"
      ]
     },
     "metadata": {
      "needs_background": "light"
     },
     "output_type": "display_data"
    }
   ],
   "source": [
    "my_plot(var='mpg')"
   ]
  },
  {
   "cell_type": "markdown",
   "metadata": {},
   "source": [
    "#### Which polynomial order performs the best in the test set?\n",
    "For the independent variable 'mpg', the 3rd polynomial order performs the best (lowest mse) in the test set."
   ]
  },
  {
   "cell_type": "markdown",
   "metadata": {},
   "source": [
    "#### Independent variable: 'cylinders'"
   ]
  },
  {
   "cell_type": "code",
   "execution_count": 44,
   "metadata": {},
   "outputs": [
    {
     "data": {
      "image/png": "[encoded data removed]",
      "text/plain": [
       "<Figure size 432x288 with 1 Axes>"
      ]
     },
     "metadata": {
      "needs_background": "light"
     },
     "output_type": "display_data"
    }
   ],
   "source": [
    "my_plot(var='cylinders')"
   ]
  },
  {
   "cell_type": "markdown",
   "metadata": {},
   "source": [
    "#### Which polynomial order performs the best in the test set?\n",
    "For the independent variable 'cylinders', the 2nd polynomial order performs the best (lowest mse) in the test set."
   ]
  },
  {
   "cell_type": "markdown",
   "metadata": {},
   "source": [
    "#### Independent variable: 'displacement'"
   ]
  },
  {
   "cell_type": "code",
   "execution_count": 45,
   "metadata": {},
   "outputs": [
    {
     "data": {
      "image/png": "[encoded data removed]",
      "text/plain": [
       "<Figure size 432x288 with 1 Axes>"
      ]
     },
     "metadata": {
      "needs_background": "light"
     },
     "output_type": "display_data"
    }
   ],
   "source": [
    "my_plot(var='displacement')"
   ]
  },
  {
   "cell_type": "markdown",
   "metadata": {},
   "source": [
    "#### Which polynomial order performs the best in the test set?\n",
    "For the independent variable 'displacement', the 2nd polynomial order performs the best (lowest mse) in the test set."
   ]
  },
  {
   "cell_type": "markdown",
   "metadata": {},
   "source": [
    "#### Independent variable: 'horsepower'"
   ]
  },
  {
   "cell_type": "code",
   "execution_count": 46,
   "metadata": {},
   "outputs": [
    {
     "data": {
      "image/png": "[encoded data removed]",
      "text/plain": [
       "<Figure size 432x288 with 1 Axes>"
      ]
     },
     "metadata": {
      "needs_background": "light"
     },
     "output_type": "display_data"
    }
   ],
   "source": [
    "my_plot(var='horsepower')"
   ]
  },
  {
   "cell_type": "markdown",
   "metadata": {},
   "source": [
    "#### Which polynomial order performs the best in the test set?\n",
    "For the independent variable 'horsepower', the 3rd polynomial order performs the best (lowest mse) in the test set."
   ]
  },
  {
   "cell_type": "markdown",
   "metadata": {},
   "source": [
    "#### Independent variable: 'acceleration'"
   ]
  },
  {
   "cell_type": "code",
   "execution_count": 47,
   "metadata": {},
   "outputs": [
    {
     "data": {
      "image/png": "[encoded data removed]",
      "text/plain": [
       "<Figure size 432x288 with 1 Axes>"
      ]
     },
     "metadata": {
      "needs_background": "light"
     },
     "output_type": "display_data"
    }
   ],
   "source": [
    "my_plot(var='acceleration')"
   ]
  },
  {
   "cell_type": "markdown",
   "metadata": {},
   "source": [
    "#### Which polynomial order performs the best in the test set?\n",
    "For the independent variable 'acceleration', the 2nd polynomial order performs the best (lowest mse) in the test set."
   ]
  },
  {
   "cell_type": "markdown",
   "metadata": {},
   "source": [
    "#### Independent variable: 'model_year'"
   ]
  },
  {
   "cell_type": "code",
   "execution_count": 48,
   "metadata": {},
   "outputs": [
    {
     "data": {
      "image/png": "[encoded data removed]",
      "text/plain": [
       "<Figure size 432x288 with 1 Axes>"
      ]
     },
     "metadata": {
      "needs_background": "light"
     },
     "output_type": "display_data"
    }
   ],
   "source": [
    "my_plot(var='model_year')"
   ]
  },
  {
   "cell_type": "markdown",
   "metadata": {},
   "source": [
    "#### Which polynomial order performs the best in the test set?\n",
    "For the independent variable 'model_year', the 1st polynomial order performs the best (lowest mse) in the test set."
   ]
  },
  {
   "cell_type": "markdown",
   "metadata": {},
   "source": [
    "#### Independent variable: 'origin'"
   ]
  },
  {
   "cell_type": "code",
   "execution_count": 49,
   "metadata": {},
   "outputs": [
    {
     "data": {
      "image/png": "[encoded data removed]",
      "text/plain": [
       "<Figure size 432x288 with 1 Axes>"
      ]
     },
     "metadata": {
      "needs_background": "light"
     },
     "output_type": "display_data"
    }
   ],
   "source": [
    "my_plot(var='origin')"
   ]
  },
  {
   "cell_type": "markdown",
   "metadata": {},
   "source": [
    "#### Which polynomial order performs the best in the test set?\n",
    "For the independent variable 'origin', the 2nd polynomial order performs the best (lowest mse) in the test set."
   ]
  },
  {
   "cell_type": "markdown",
   "metadata": {},
   "source": [
    "(e) Repeat your analysis using an 80:20 train:test split. How does your answer change?"
   ]
  },
  {
   "cell_type": "code",
   "execution_count": 50,
   "metadata": {},
   "outputs": [
    {
     "data": {
      "text/plain": [
       "314"
      ]
     },
     "execution_count": 50,
     "metadata": {},
     "output_type": "execute_result"
    }
   ],
   "source": [
    "# 80% of rows\n",
    "split = math.ceil(df.shape[0] * 0.8)\n",
    "split"
   ]
  },
  {
   "cell_type": "code",
   "execution_count": 51,
   "metadata": {},
   "outputs": [],
   "source": [
    "# split dataset 80:20 for training and testing\n",
    "X_train, X_test, Y_train, Y_test = X[:split], X[split:], Y[:split], Y[split:] # not randomized, unfortunately\n",
    "\n",
    "y_train = np.array(Y_train)\n",
    "y_test = np.array(Y_test)"
   ]
  },
  {
   "cell_type": "markdown",
   "metadata": {},
   "source": [
    "#### Independent variable : 'mpg'"
   ]
  },
  {
   "cell_type": "code",
   "execution_count": 52,
   "metadata": {},
   "outputs": [
    {
     "data": {
      "image/png": "[encoded data removed]",
      "text/plain": [
       "<Figure size 432x288 with 1 Axes>"
      ]
     },
     "metadata": {
      "needs_background": "light"
     },
     "output_type": "display_data"
    }
   ],
   "source": [
    "my_plot(var='mpg')"
   ]
  },
  {
   "cell_type": "markdown",
   "metadata": {},
   "source": [
    "#### Independent variable : 'cylinders'"
   ]
  },
  {
   "cell_type": "code",
   "execution_count": 53,
   "metadata": {},
   "outputs": [
    {
     "data": {
      "image/png": "[encoded data removed]",
      "text/plain": [
       "<Figure size 432x288 with 1 Axes>"
      ]
     },
     "metadata": {
      "needs_background": "light"
     },
     "output_type": "display_data"
    }
   ],
   "source": [
    "my_plot(var='cylinders')"
   ]
  },
  {
   "cell_type": "markdown",
   "metadata": {},
   "source": [
    "#### Independent variable : 'displacement'"
   ]
  },
  {
   "cell_type": "code",
   "execution_count": 54,
   "metadata": {},
   "outputs": [
    {
     "data": {
      "image/png": "[encoded data removed]",
      "text/plain": [
       "<Figure size 432x288 with 1 Axes>"
      ]
     },
     "metadata": {
      "needs_background": "light"
     },
     "output_type": "display_data"
    }
   ],
   "source": [
    "my_plot(var='displacement')"
   ]
  },
  {
   "cell_type": "markdown",
   "metadata": {},
   "source": [
    "#### Independent variable : 'horsepower'"
   ]
  },
  {
   "cell_type": "code",
   "execution_count": 55,
   "metadata": {},
   "outputs": [
    {
     "data": {
      "image/png": "[encoded data removed]",
      "text/plain": [
       "<Figure size 432x288 with 1 Axes>"
      ]
     },
     "metadata": {
      "needs_background": "light"
     },
     "output_type": "display_data"
    }
   ],
   "source": [
    "my_plot(var='horsepower')"
   ]
  },
  {
   "cell_type": "markdown",
   "metadata": {},
   "source": [
    "#### Independent variable : 'acceleration'"
   ]
  },
  {
   "cell_type": "code",
   "execution_count": 56,
   "metadata": {},
   "outputs": [
    {
     "data": {
      "image/png": "[encoded data removed]",
      "text/plain": [
       "<Figure size 432x288 with 1 Axes>"
      ]
     },
     "metadata": {
      "needs_background": "light"
     },
     "output_type": "display_data"
    }
   ],
   "source": [
    "my_plot(var='acceleration')"
   ]
  },
  {
   "cell_type": "markdown",
   "metadata": {},
   "source": [
    "#### Independent variable : 'model_year'"
   ]
  },
  {
   "cell_type": "code",
   "execution_count": 57,
   "metadata": {},
   "outputs": [
    {
     "data": {
      "image/png": "[encoded data removed]",
      "text/plain": [
       "<Figure size 432x288 with 1 Axes>"
      ]
     },
     "metadata": {
      "needs_background": "light"
     },
     "output_type": "display_data"
    }
   ],
   "source": [
    "my_plot(var='model_year')"
   ]
  },
  {
   "cell_type": "markdown",
   "metadata": {},
   "source": [
    "#### Independent variable : 'origin'"
   ]
  },
  {
   "cell_type": "code",
   "execution_count": 58,
   "metadata": {},
   "outputs": [
    {
     "data": {
      "image/png": "[encoded data removed]",
      "text/plain": [
       "<Figure size 432x288 with 1 Axes>"
      ]
     },
     "metadata": {
      "needs_background": "light"
     },
     "output_type": "display_data"
    }
   ],
   "source": [
    "my_plot(var='origin')"
   ]
  },
  {
   "cell_type": "markdown",
   "metadata": {},
   "source": [
    "#### How does your answer change?\n",
    "Comparing the 70:30 versus the 80:20 train:test split, my answer (the plots for the lines and data for the testing set) did not initially seem to change. However, upon closer inspection, the mean squared error (mse) seems greater in the plots produced with the 80:20 train:test split. Perhaps the 70:30 train:test split was more optimal for this particular dataset."
   ]
  },
  {
   "cell_type": "markdown",
   "metadata": {},
   "source": [
    "### 2: [10pt]\n",
    "Allowed libraries: pandas, scikit-learn (https://scikit-learn.org/stable/modules/generated/sklearn.linear_model.LogisticRegression.html (Links to an external site.)\n",
    "\n",
    "(a) Using logistic regression (1st order), perform classification on the various classes (light/medium/heavy). Create one regression model per feature."
   ]
  },
  {
   "cell_type": "code",
   "execution_count": 59,
   "metadata": {},
   "outputs": [],
   "source": [
    "# logistic regression\n",
    "log = LogisticRegression()\n",
    "\n",
    "# perform classification\n",
    "Y = pd.cut(df['weight'], 3, labels=['light', 'medium', 'heavy'])\n",
    "\n",
    "# split dataset 70:30 for training and testing\n",
    "X_train, X_test, y_train, y_test = train_test_split(X, Y, test_size=0.3)"
   ]
  },
  {
   "cell_type": "markdown",
   "metadata": {},
   "source": [
    "#### Independent variable: 'mpg'"
   ]
  },
  {
   "cell_type": "code",
   "execution_count": 60,
   "metadata": {},
   "outputs": [],
   "source": [
    "x_train = np.array(X_train['mpg']).reshape(-1,1)\n",
    "x_test = np.array(X_test['mpg']).reshape(-1,1)\n",
    "\n",
    "# fit and predict using logistic regression\n",
    "log.fit(x_train, y_train)\n",
    "mpg_pred = log.predict(x_test)"
   ]
  },
  {
   "cell_type": "markdown",
   "metadata": {},
   "source": [
    "#### Independent variable: 'cylinders'"
   ]
  },
  {
   "cell_type": "code",
   "execution_count": 61,
   "metadata": {},
   "outputs": [],
   "source": [
    "x_train = np.array(X_train['cylinders']).reshape(-1,1)\n",
    "x_test = np.array(X_test['cylinders']).reshape(-1,1)\n",
    "\n",
    "# fit and predict using logistic regression\n",
    "log.fit(x_train, y_train)\n",
    "cylinders_pred = log.predict(x_test)"
   ]
  },
  {
   "cell_type": "markdown",
   "metadata": {},
   "source": [
    "#### Independent variable: 'displacement'"
   ]
  },
  {
   "cell_type": "code",
   "execution_count": 62,
   "metadata": {},
   "outputs": [],
   "source": [
    "x_train = np.array(X_train['displacement']).reshape(-1,1)\n",
    "x_test = np.array(X_test['displacement']).reshape(-1,1)\n",
    "\n",
    "# fit and predict using logistic regression\n",
    "log.fit(x_train, y_train)\n",
    "displacement_pred = log.predict(x_test)"
   ]
  },
  {
   "cell_type": "markdown",
   "metadata": {},
   "source": [
    "#### Independent variable: 'horsepower'"
   ]
  },
  {
   "cell_type": "code",
   "execution_count": 63,
   "metadata": {},
   "outputs": [],
   "source": [
    "x_train = np.array(X_train['horsepower']).reshape(-1,1)\n",
    "x_test = np.array(X_test['horsepower']).reshape(-1,1)\n",
    "\n",
    "# fit and predict using logistic regression\n",
    "log.fit(x_train, y_train)\n",
    "horsepower_pred = log.predict(x_test)"
   ]
  },
  {
   "cell_type": "markdown",
   "metadata": {},
   "source": [
    "#### Independent variable: 'acceleration'"
   ]
  },
  {
   "cell_type": "code",
   "execution_count": 64,
   "metadata": {},
   "outputs": [],
   "source": [
    "x_train = np.array(X_train['acceleration']).reshape(-1,1)\n",
    "x_test = np.array(X_test['acceleration']).reshape(-1,1)\n",
    "\n",
    "# fit and predict using logistic regression\n",
    "log.fit(x_train, y_train)\n",
    "acceleration_pred = log.predict(x_test)"
   ]
  },
  {
   "cell_type": "markdown",
   "metadata": {},
   "source": [
    "#### Independent variable: 'model_year'"
   ]
  },
  {
   "cell_type": "code",
   "execution_count": 65,
   "metadata": {},
   "outputs": [],
   "source": [
    "x_train = np.array(X_train['model_year']).reshape(-1,1)\n",
    "x_test = np.array(X_test['model_year']).reshape(-1,1)\n",
    "\n",
    "# fit and predict using logistic regression\n",
    "log.fit(x_train, y_train)\n",
    "model_year_pred = log.predict(x_test)"
   ]
  },
  {
   "cell_type": "markdown",
   "metadata": {},
   "source": [
    "#### Independent variable: 'origin'"
   ]
  },
  {
   "cell_type": "code",
   "execution_count": 66,
   "metadata": {},
   "outputs": [],
   "source": [
    "x_train = np.array(X_train['origin']).reshape(-1,1)\n",
    "x_test = np.array(X_test['origin']).reshape(-1,1)\n",
    "\n",
    "# fit and predict using logistic regression\n",
    "log.fit(x_train, y_train)\n",
    "origin_pred = log.predict(x_test)"
   ]
  },
  {
   "cell_type": "markdown",
   "metadata": {},
   "source": [
    "(b) Report the training/testing classification performance using both precision and recall. For this classification task, give an example and explain when each of the metrics would be more desirable."
   ]
  },
  {
   "cell_type": "markdown",
   "metadata": {},
   "source": [
    "#### Independent variable: 'mpg'"
   ]
  },
  {
   "cell_type": "code",
   "execution_count": 67,
   "metadata": {},
   "outputs": [
    {
     "data": {
      "text/plain": [
       "0.7790123456790123"
      ]
     },
     "execution_count": 67,
     "metadata": {},
     "output_type": "execute_result"
    }
   ],
   "source": [
    "precision_score(y_test, mpg_pred, average='macro', zero_division=0)"
   ]
  },
  {
   "cell_type": "code",
   "execution_count": 68,
   "metadata": {},
   "outputs": [
    {
     "data": {
      "text/plain": [
       "0.7858934543717152"
      ]
     },
     "execution_count": 68,
     "metadata": {},
     "output_type": "execute_result"
    }
   ],
   "source": [
    "recall_score(y_test, mpg_pred, average='macro', zero_division=0)"
   ]
  },
  {
   "cell_type": "markdown",
   "metadata": {},
   "source": [
    "#### Independent variable: 'cylinders'"
   ]
  },
  {
   "cell_type": "code",
   "execution_count": 69,
   "metadata": {},
   "outputs": [
    {
     "data": {
      "text/plain": [
       "0.8413319672131148"
      ]
     },
     "execution_count": 69,
     "metadata": {},
     "output_type": "execute_result"
    }
   ],
   "source": [
    "precision_score(y_test, cylinders_pred, average='macro', zero_division=0)"
   ]
  },
  {
   "cell_type": "code",
   "execution_count": 70,
   "metadata": {},
   "outputs": [
    {
     "data": {
      "text/plain": [
       "0.8513431013431014"
      ]
     },
     "execution_count": 70,
     "metadata": {},
     "output_type": "execute_result"
    }
   ],
   "source": [
    "recall_score(y_test, cylinders_pred, average='macro', zero_division=0)"
   ]
  },
  {
   "cell_type": "markdown",
   "metadata": {},
   "source": [
    "#### Independent variable: 'displacement'"
   ]
  },
  {
   "cell_type": "code",
   "execution_count": 71,
   "metadata": {},
   "outputs": [
    {
     "data": {
      "text/plain": [
       "0.8166971916971918"
      ]
     },
     "execution_count": 71,
     "metadata": {},
     "output_type": "execute_result"
    }
   ],
   "source": [
    "precision_score(y_test, displacement_pred, average='macro', zero_division=0)"
   ]
  },
  {
   "cell_type": "code",
   "execution_count": 72,
   "metadata": {},
   "outputs": [
    {
     "data": {
      "text/plain": [
       "0.7636433614694486"
      ]
     },
     "execution_count": 72,
     "metadata": {},
     "output_type": "execute_result"
    }
   ],
   "source": [
    "recall_score(y_test, displacement_pred, average='macro', zero_division=0)"
   ]
  },
  {
   "cell_type": "markdown",
   "metadata": {},
   "source": [
    "#### Independent variable: 'horsepower'"
   ]
  },
  {
   "cell_type": "code",
   "execution_count": 73,
   "metadata": {},
   "outputs": [
    {
     "data": {
      "text/plain": [
       "0.7398574561403509"
      ]
     },
     "execution_count": 73,
     "metadata": {},
     "output_type": "execute_result"
    }
   ],
   "source": [
    "precision_score(y_test, horsepower_pred, average='macro', zero_division=0)"
   ]
  },
  {
   "cell_type": "code",
   "execution_count": 74,
   "metadata": {},
   "outputs": [
    {
     "data": {
      "text/plain": [
       "0.6825994054254924"
      ]
     },
     "execution_count": 74,
     "metadata": {},
     "output_type": "execute_result"
    }
   ],
   "source": [
    "recall_score(y_test, horsepower_pred, average='macro', zero_division=0)"
   ]
  },
  {
   "cell_type": "markdown",
   "metadata": {},
   "source": [
    "#### Independent variable: 'acceleration'"
   ]
  },
  {
   "cell_type": "code",
   "execution_count": 75,
   "metadata": {},
   "outputs": [
    {
     "data": {
      "text/plain": [
       "0.43030303030303024"
      ]
     },
     "execution_count": 75,
     "metadata": {},
     "output_type": "execute_result"
    }
   ],
   "source": [
    "precision_score(y_test, acceleration_pred, average='macro', zero_division=0)"
   ]
  },
  {
   "cell_type": "code",
   "execution_count": 76,
   "metadata": {},
   "outputs": [
    {
     "data": {
      "text/plain": [
       "0.4050339756861496"
      ]
     },
     "execution_count": 76,
     "metadata": {},
     "output_type": "execute_result"
    }
   ],
   "source": [
    "recall_score(y_test, acceleration_pred, average='macro', zero_division=0)"
   ]
  },
  {
   "cell_type": "markdown",
   "metadata": {},
   "source": [
    "#### Independent variable: 'model_year'"
   ]
  },
  {
   "cell_type": "code",
   "execution_count": 77,
   "metadata": {},
   "outputs": [
    {
     "data": {
      "text/plain": [
       "0.3"
      ]
     },
     "execution_count": 77,
     "metadata": {},
     "output_type": "execute_result"
    }
   ],
   "source": [
    "precision_score(y_test, model_year_pred, average='macro', zero_division=0)"
   ]
  },
  {
   "cell_type": "code",
   "execution_count": 78,
   "metadata": {},
   "outputs": [
    {
     "data": {
      "text/plain": [
       "0.37939958592132506"
      ]
     },
     "execution_count": 78,
     "metadata": {},
     "output_type": "execute_result"
    }
   ],
   "source": [
    "recall_score(y_test, model_year_pred, average='macro', zero_division=0)"
   ]
  },
  {
   "cell_type": "markdown",
   "metadata": {},
   "source": [
    "#### Independent variable: 'origin'"
   ]
  },
  {
   "cell_type": "code",
   "execution_count": 79,
   "metadata": {},
   "outputs": [
    {
     "data": {
      "text/plain": [
       "0.4058061821219716"
      ]
     },
     "execution_count": 79,
     "metadata": {},
     "output_type": "execute_result"
    }
   ],
   "source": [
    "precision_score(y_test, origin_pred, average='macro', zero_division=0)"
   ]
  },
  {
   "cell_type": "code",
   "execution_count": 80,
   "metadata": {},
   "outputs": [
    {
     "data": {
      "text/plain": [
       "0.4673382173382173"
      ]
     },
     "execution_count": 80,
     "metadata": {},
     "output_type": "execute_result"
    }
   ],
   "source": [
    "recall_score(y_test, origin_pred, average='macro', zero_division=0)"
   ]
  },
  {
   "cell_type": "markdown",
   "metadata": {},
   "source": [
    "#### For this classification task, give an example and explain when each of the metrics would be more desirable.\n",
    "Precision refers to the percentage of results which are relevant and recall refers to the percentage of total relevant results correctly classified. For example, when using logistic regression with the independent variable 'mpg' to classify the dependent variable 'weight', the precision and recall scores were about 0.75. These are decent scores because, for both metrics, a greater score (closer to 1.0) is more desirable."
   ]
  },
  {
   "cell_type": "markdown",
   "metadata": {},
   "source": [
    "### 3: [5pt]\n",
    "Allowed libraries: pandas, scikit-learn\n",
    "\n",
    "(a) Re-do the logistic regression training/testing, but now after you apply min-max normalization to the dataset. Do you see any difference in performance?"
   ]
  },
  {
   "cell_type": "code",
   "execution_count": 81,
   "metadata": {},
   "outputs": [],
   "source": [
    "# min-max normalization\n",
    "scaler = MinMaxScaler()\n",
    "\n",
    "# split dataset 70:30 for training and testing\n",
    "X_train, X_test, y_train, y_test = train_test_split(X, Y, test_size=0.3)"
   ]
  },
  {
   "cell_type": "markdown",
   "metadata": {},
   "source": [
    "#### Independent variable: 'mpg'"
   ]
  },
  {
   "cell_type": "code",
   "execution_count": 82,
   "metadata": {},
   "outputs": [
    {
     "data": {
      "text/plain": [
       "0.4684083212385099"
      ]
     },
     "execution_count": 82,
     "metadata": {},
     "output_type": "execute_result"
    }
   ],
   "source": [
    "x_train = np.array(X_train['mpg']).reshape(-1,1)\n",
    "x_test = np.array(X_test['mpg']).reshape(-1,1)\n",
    "\n",
    "# apply min-max normalization to dataset\n",
    "x_train = scaler.fit_transform(x_train)\n",
    "x_test = scaler.fit_transform(x_test)\n",
    "\n",
    "# fit and predict using logistic regression\n",
    "log.fit(x_train, y_train)\n",
    "mpg_pred = log.predict(x_test)\n",
    "\n",
    "precision_score(y_test, mpg_pred, average='macro', zero_division=0)"
   ]
  },
  {
   "cell_type": "code",
   "execution_count": 83,
   "metadata": {},
   "outputs": [
    {
     "data": {
      "text/plain": [
       "0.5707346690953249"
      ]
     },
     "execution_count": 83,
     "metadata": {},
     "output_type": "execute_result"
    }
   ],
   "source": [
    "recall_score(y_test, mpg_pred, average='macro', zero_division=0)"
   ]
  },
  {
   "cell_type": "markdown",
   "metadata": {},
   "source": [
    "#### Independent variable: 'cylinders'"
   ]
  },
  {
   "cell_type": "code",
   "execution_count": 84,
   "metadata": {},
   "outputs": [
    {
     "data": {
      "text/plain": [
       "0.5099223468507333"
      ]
     },
     "execution_count": 84,
     "metadata": {},
     "output_type": "execute_result"
    }
   ],
   "source": [
    "x_train = np.array(X_train['cylinders']).reshape(-1,1)\n",
    "x_test = np.array(X_test['cylinders']).reshape(-1,1)\n",
    "\n",
    "# apply min-max normalization to dataset\n",
    "x_train = scaler.fit_transform(x_train)\n",
    "x_test = scaler.fit_transform(x_test)\n",
    "\n",
    "# fit and predict using logistic regression\n",
    "log.fit(x_train, y_train)\n",
    "cylinders_pred = log.predict(x_test)\n",
    "\n",
    "precision_score(y_test, cylinders_pred, average='macro', zero_division=0)"
   ]
  },
  {
   "cell_type": "code",
   "execution_count": 85,
   "metadata": {},
   "outputs": [
    {
     "data": {
      "text/plain": [
       "0.6224954462659381"
      ]
     },
     "execution_count": 85,
     "metadata": {},
     "output_type": "execute_result"
    }
   ],
   "source": [
    "recall_score(y_test, cylinders_pred, average='macro', zero_division=0)"
   ]
  },
  {
   "cell_type": "markdown",
   "metadata": {},
   "source": [
    "#### Independent variable: 'displacement'"
   ]
  },
  {
   "cell_type": "code",
   "execution_count": 86,
   "metadata": {},
   "outputs": [
    {
     "data": {
      "text/plain": [
       "0.7985279148069845"
      ]
     },
     "execution_count": 86,
     "metadata": {},
     "output_type": "execute_result"
    }
   ],
   "source": [
    "x_train = np.array(X_train['displacement']).reshape(-1,1)\n",
    "x_test = np.array(X_test['displacement']).reshape(-1,1)\n",
    "\n",
    "# apply min-max normalization to dataset\n",
    "x_train = scaler.fit_transform(x_train)\n",
    "x_test = scaler.fit_transform(x_test)\n",
    "\n",
    "# fit and predict using logistic regression\n",
    "log.fit(x_train, y_train)\n",
    "displacement_pred = log.predict(x_test)\n",
    "\n",
    "precision_score(y_test, displacement_pred, average='macro', zero_division=0)"
   ]
  },
  {
   "cell_type": "code",
   "execution_count": 87,
   "metadata": {},
   "outputs": [
    {
     "data": {
      "text/plain": [
       "0.6939240176945095"
      ]
     },
     "execution_count": 87,
     "metadata": {},
     "output_type": "execute_result"
    }
   ],
   "source": [
    "recall_score(y_test, displacement_pred, average='macro', zero_division=0)"
   ]
  },
  {
   "cell_type": "markdown",
   "metadata": {},
   "source": [
    "#### Independent variable: 'horsepower'"
   ]
  },
  {
   "cell_type": "code",
   "execution_count": 88,
   "metadata": {},
   "outputs": [
    {
     "data": {
      "text/plain": [
       "0.7213261000602773"
      ]
     },
     "execution_count": 88,
     "metadata": {},
     "output_type": "execute_result"
    }
   ],
   "source": [
    "x_train = np.array(X_train['horsepower']).reshape(-1,1)\n",
    "x_test = np.array(X_test['horsepower']).reshape(-1,1)\n",
    "\n",
    "# apply min-max normalization to dataset\n",
    "x_train = scaler.fit_transform(x_train)\n",
    "x_test = scaler.fit_transform(x_test)\n",
    "\n",
    "# fit and predict using logistic regression\n",
    "log.fit(x_train, y_train)\n",
    "horsepower_pred = log.predict(x_test)\n",
    "\n",
    "precision_score(y_test, horsepower_pred, average='macro', zero_division=0)"
   ]
  },
  {
   "cell_type": "code",
   "execution_count": 89,
   "metadata": {},
   "outputs": [
    {
     "data": {
      "text/plain": [
       "0.6425101916905195"
      ]
     },
     "execution_count": 89,
     "metadata": {},
     "output_type": "execute_result"
    }
   ],
   "source": [
    "recall_score(y_test, horsepower_pred, average='macro', zero_division=0)"
   ]
  },
  {
   "cell_type": "markdown",
   "metadata": {},
   "source": [
    "#### Independent variable: 'acceleration'"
   ]
  },
  {
   "cell_type": "code",
   "execution_count": 90,
   "metadata": {},
   "outputs": [
    {
     "data": {
      "text/plain": [
       "0.5577777777777778"
      ]
     },
     "execution_count": 90,
     "metadata": {},
     "output_type": "execute_result"
    }
   ],
   "source": [
    "x_train = np.array(X_train['acceleration']).reshape(-1,1)\n",
    "x_test = np.array(X_test['acceleration']).reshape(-1,1)\n",
    "\n",
    "# apply min-max normalization to dataset\n",
    "x_train = scaler.fit_transform(x_train)\n",
    "x_test = scaler.fit_transform(x_test)\n",
    "\n",
    "# fit and predict using logistic regression\n",
    "log.fit(x_train, y_train)\n",
    "acceleration_pred = log.predict(x_test)\n",
    "\n",
    "precision_score(y_test, acceleration_pred, average='macro', zero_division=0)"
   ]
  },
  {
   "cell_type": "code",
   "execution_count": 91,
   "metadata": {},
   "outputs": [
    {
     "data": {
      "text/plain": [
       "0.46129326047358826"
      ]
     },
     "execution_count": 91,
     "metadata": {},
     "output_type": "execute_result"
    }
   ],
   "source": [
    "recall_score(y_test, acceleration_pred, average='macro', zero_division=0)"
   ]
  },
  {
   "cell_type": "markdown",
   "metadata": {},
   "source": [
    "#### Independent variable: 'model_year'"
   ]
  },
  {
   "cell_type": "code",
   "execution_count": 92,
   "metadata": {},
   "outputs": [
    {
     "data": {
      "text/plain": [
       "0.28034188034188035"
      ]
     },
     "execution_count": 92,
     "metadata": {},
     "output_type": "execute_result"
    }
   ],
   "source": [
    "x_train = np.array(X_train['model_year']).reshape(-1,1)\n",
    "x_test = np.array(X_test['model_year']).reshape(-1,1)\n",
    "\n",
    "# apply min-max normalization to dataset\n",
    "x_train = scaler.fit_transform(x_train)\n",
    "x_test = scaler.fit_transform(x_test)\n",
    "\n",
    "# fit and predict using logistic regression\n",
    "log.fit(x_train, y_train)\n",
    "model_year_pred = log.predict(x_test)\n",
    "\n",
    "precision_score(y_test, model_year_pred, average='macro', zero_division=0)"
   ]
  },
  {
   "cell_type": "code",
   "execution_count": 93,
   "metadata": {},
   "outputs": [
    {
     "data": {
      "text/plain": [
       "0.3695029924538121"
      ]
     },
     "execution_count": 93,
     "metadata": {},
     "output_type": "execute_result"
    }
   ],
   "source": [
    "recall_score(y_test, model_year_pred, average='macro', zero_division=0)"
   ]
  },
  {
   "cell_type": "markdown",
   "metadata": {},
   "source": [
    "#### Independent variable: 'origin'"
   ]
  },
  {
   "cell_type": "code",
   "execution_count": 94,
   "metadata": {},
   "outputs": [
    {
     "data": {
      "text/plain": [
       "0.4471744471744472"
      ]
     },
     "execution_count": 94,
     "metadata": {},
     "output_type": "execute_result"
    }
   ],
   "source": [
    "x_train = np.array(X_train['origin']).reshape(-1,1)\n",
    "x_test = np.array(X_test['origin']).reshape(-1,1)\n",
    "\n",
    "# apply min-max normalization to dataset\n",
    "x_train = scaler.fit_transform(x_train)\n",
    "x_test = scaler.fit_transform(x_test)\n",
    "\n",
    "# fit and predict using logistic regression\n",
    "log.fit(x_train, y_train)\n",
    "origin_pred = log.predict(x_test)\n",
    "\n",
    "precision_score(y_test, origin_pred, average='macro', zero_division=0)"
   ]
  },
  {
   "cell_type": "code",
   "execution_count": 95,
   "metadata": {},
   "outputs": [
    {
     "data": {
      "text/plain": [
       "0.5148755312689738"
      ]
     },
     "execution_count": 95,
     "metadata": {},
     "output_type": "execute_result"
    }
   ],
   "source": [
    "recall_score(y_test, origin_pred, average='macro', zero_division=0)"
   ]
  },
  {
   "cell_type": "markdown",
   "metadata": {},
   "source": [
    "#### Do you see any difference in performance?\n",
    "I see a difference in performance. After applying min-max normalization to the dataset, the precision and recall scores following the logistic regression training/testing decreased..."
   ]
  },
  {
   "cell_type": "markdown",
   "metadata": {},
   "source": [
    "### 4: [15pt]\n",
    "Allowed libraries: pandas, scikit-learn\n",
    "\n",
    "For each part: Make your prediction using either a single linear or logistic regression that includes all regression terms. Attempt to use a combination of first and second order terms.\n",
    "\n",
    "(a) If a USA manufacturer (origin 1) had considered to introduce a model in 1981 with the following characteristics: 4 cylinders, 400 cc displacement, 150 horsepower, 3500 lb weight, 8 m/sec2 acceleration, what is the MPG rating that we should have expected?"
   ]
  },
  {
   "cell_type": "code",
   "execution_count": 96,
   "metadata": {},
   "outputs": [],
   "source": [
    "# linear regression\n",
    "lin = LinearRegression()\n",
    "\n",
    "# all regression terms\n",
    "X = df.drop(['mpg'], axis=1)\n",
    "Y = df['mpg']\n",
    "\n",
    "# combine first and second order terms\n",
    "poly = PolynomialFeatures(2)\n",
    "X['displacement'] = poly.fit_transform(np.array(X['displacement']).reshape(-1,1))\n",
    "X['weight'] = poly.fit_transform(np.array(X['weight']).reshape(-1,1))\n",
    "X['model_year'] = poly.fit_transform(np.array(X['model_year']).reshape(-1,1))\n",
    "\n",
    "# split dataset 70:30 for training and testing\n",
    "x_train, x_test, y_train, y_test = train_test_split(X, Y, test_size=0.3)\n",
    "x_test = np.array([4, 400, 150, 3500, 8, 81, 1]).reshape(1,-1) # given values\n",
    "\n",
    "# predict dependent variable 'mpg'\n",
    "lin.fit(x_train, y_train)\n",
    "pred = lin.predict(x_test)\n",
    "mpg = pred[0]"
   ]
  },
  {
   "cell_type": "markdown",
   "metadata": {},
   "source": [
    "#### If a USA manufacturer (origin 1) had considered to introduce a model in 1981 with the following characteristics: 4 cylinders, 400 cc displacement, 150 horsepower, 3500 lb weight, 8 m/sec2 acceleration, what is the MPG rating that we should have expected?\n",
    "The MPG rating that we should have expected is:"
   ]
  },
  {
   "cell_type": "code",
   "execution_count": 97,
   "metadata": {},
   "outputs": [
    {
     "data": {
      "text/plain": [
       "21.384361467894657"
      ]
     },
     "execution_count": 97,
     "metadata": {},
     "output_type": "execute_result"
    }
   ],
   "source": [
    "mpg"
   ]
  },
  {
   "cell_type": "markdown",
   "metadata": {},
   "source": [
    "(b) In which weight class (light, medium, heavy) would it belong?"
   ]
  },
  {
   "cell_type": "code",
   "execution_count": 98,
   "metadata": {},
   "outputs": [],
   "source": [
    "# logistic regression\n",
    "log = LogisticRegression(max_iter=9999)\n",
    "\n",
    "# perform classification\n",
    "Y = pd.cut(df['weight'], 3, labels=['light', 'medium', 'heavy'])\n",
    "\n",
    "# split dataset 70:30 for training and testing\n",
    "x_train, x_test, y_train, y_test = train_test_split(X, Y, test_size=0.3)\n",
    "x_test = np.array([4, 400, 150, 3500, 8, 81, 1]).reshape(1,-1)  # given values\n",
    "\n",
    "# predict dependent variable 'weight class'\n",
    "log.fit(x_train, y_train)\n",
    "pred = log.predict(x_test)\n",
    "weight_class = pred[0]"
   ]
  },
  {
   "cell_type": "markdown",
   "metadata": {},
   "source": [
    "#### In which weight class (light, medium, heavy) would it belong?\n",
    "It would belong in the following weight class:"
   ]
  },
  {
   "cell_type": "code",
   "execution_count": 99,
   "metadata": {},
   "outputs": [
    {
     "data": {
      "text/plain": [
       "'medium'"
      ]
     },
     "execution_count": 99,
     "metadata": {},
     "output_type": "execute_result"
    }
   ],
   "source": [
    "weight_class"
   ]
  }
 ],
 "metadata": {
  "kernelspec": {
   "display_name": "Python 3",
   "language": "python",
   "name": "python3"
  },
  "language_info": {
   "codemirror_mode": {
    "name": "ipython",
    "version": 3
   },
   "file_extension": ".py",
   "mimetype": "text/x-python",
   "name": "python",
   "nbconvert_exporter": "python",
   "pygments_lexer": "ipython3",
   "version": "3.7.6"
  }
 },
 "nbformat": 4,
 "nbformat_minor": 4
}
